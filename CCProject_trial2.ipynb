{
  "nbformat": 4,
  "nbformat_minor": 0,
  "metadata": {
    "colab": {
      "name": "CCProject_trial2.ipynb",
      "provenance": [],
      "toc_visible": true,
      "authorship_tag": "ABX9TyOB5KPRoy0YdbkPtxWJLaVK",
      "include_colab_link": true
    },
    "kernelspec": {
      "name": "python3",
      "display_name": "Python 3"
    },
    "accelerator": "GPU"
  },
  "cells": [
    {
      "cell_type": "markdown",
      "metadata": {
        "id": "view-in-github",
        "colab_type": "text"
      },
      "source": [
        "<a href=\"https://colab.research.google.com/github/ps11061601/CCProject/blob/master/CCProject_trial2.ipynb\" target=\"_parent\"><img src=\"https://colab.research.google.com/assets/colab-badge.svg\" alt=\"Open In Colab\"/></a>"
      ]
    },
    {
      "cell_type": "code",
      "metadata": {
        "id": "02gIPJKBhyIH",
        "colab_type": "code",
        "outputId": "f231437a-56e2-4e88-a7bb-da9bcacd1380",
        "colab": {
          "base_uri": "https://localhost:8080/",
          "height": 222
        }
      },
      "source": [
        "!apt-get install -y -qq software-properties-common python-software-properties module-init-tools\n",
        "!add-apt-repository -y ppa:alessandro-strada/ppa 2>&1 > /dev/null\n",
        "!apt-get update -qq 2>&1 > /dev/null\n",
        "!apt-get -y install -qq google-drive-ocamlfuse fuse\n",
        "from google.colab import auth\n",
        "auth.authenticate_user()\n",
        "from oauth2client.client import GoogleCredentials\n",
        "creds = GoogleCredentials.get_application_default()\n",
        "import getpass\n",
        "!google-drive-ocamlfuse -headless -id={creds.client_id} -secret={creds.client_secret} < /dev/null 2>&1 | grep URL\n",
        "vcode = getpass.getpass()\n",
        "!echo {vcode} | google-drive-ocamlfuse -headless -id={creds.client_id} -secret={creds.client_secret}"
      ],
      "execution_count": 0,
      "outputs": [
        {
          "output_type": "stream",
          "text": [
            "E: Package 'python-software-properties' has no installation candidate\n",
            "Selecting previously unselected package google-drive-ocamlfuse.\n",
            "(Reading database ... 145113 files and directories currently installed.)\n",
            "Preparing to unpack .../google-drive-ocamlfuse_0.7.17-0ubuntu2~ubuntu18.04.1_amd64.deb ...\n",
            "Unpacking google-drive-ocamlfuse (0.7.17-0ubuntu2~ubuntu18.04.1) ...\n",
            "Setting up google-drive-ocamlfuse (0.7.17-0ubuntu2~ubuntu18.04.1) ...\n",
            "Processing triggers for man-db (2.8.3-2ubuntu0.1) ...\n",
            "Please, open the following URL in a web browser: https://accounts.google.com/o/oauth2/auth?client_id=32555940559.apps.googleusercontent.com&redirect_uri=urn%3Aietf%3Awg%3Aoauth%3A2.0%3Aoob&scope=https%3A%2F%2Fwww.googleapis.com%2Fauth%2Fdrive&response_type=code&access_type=offline&approval_prompt=force\n",
            "··········\n",
            "Please, open the following URL in a web browser: https://accounts.google.com/o/oauth2/auth?client_id=32555940559.apps.googleusercontent.com&redirect_uri=urn%3Aietf%3Awg%3Aoauth%3A2.0%3Aoob&scope=https%3A%2F%2Fwww.googleapis.com%2Fauth%2Fdrive&response_type=code&access_type=offline&approval_prompt=force\n",
            "Please enter the verification code: Access token retrieved correctly.\n"
          ],
          "name": "stdout"
        }
      ]
    },
    {
      "cell_type": "code",
      "metadata": {
        "id": "tuLDqe0GqRMB",
        "colab_type": "code",
        "colab": {}
      },
      "source": [
        "!mkdir -p drive\n",
        "!google-drive-ocamlfuse drive"
      ],
      "execution_count": 0,
      "outputs": []
    },
    {
      "cell_type": "code",
      "metadata": {
        "id": "G57cKbuaqWas",
        "colab_type": "code",
        "colab": {}
      },
      "source": [
        "!pip install -q keras"
      ],
      "execution_count": 0,
      "outputs": []
    },
    {
      "cell_type": "code",
      "metadata": {
        "id": "DdX_2ypQrHKa",
        "colab_type": "code",
        "outputId": "714f8dea-d598-4350-b60e-7cfd01607ff0",
        "colab": {
          "base_uri": "https://localhost:8080/",
          "height": 79
        }
      },
      "source": [
        "import os\n",
        "import glob\n",
        "import numpy as np\n",
        "from tensorflow.keras import layers\n",
        "from tensorflow import keras \n",
        "import tensorflow as tf\n",
        "import pandas as pd\n",
        "import numpy as np\n",
        "from sklearn.model_selection import train_test_split\n",
        "from sklearn.preprocessing import StandardScaler\n",
        "from sklearn.metrics import mean_squared_error\n",
        "from keras.models import Sequential\n",
        "from keras.layers import Dense\n",
        "from keras.wrappers.scikit_learn import KerasRegressor\n",
        "from sklearn.model_selection import cross_val_score\n",
        "from sklearn.model_selection import KFold\n",
        "from sklearn.preprocessing import StandardScaler\n",
        "from sklearn.pipeline import Pipeline"
      ],
      "execution_count": 0,
      "outputs": [
        {
          "output_type": "display_data",
          "data": {
            "text/html": [
              "<p style=\"color: red;\">\n",
              "The default version of TensorFlow in Colab will soon switch to TensorFlow 2.x.<br>\n",
              "We recommend you <a href=\"https://www.tensorflow.org/guide/migrate\" target=\"_blank\">upgrade</a> now \n",
              "or ensure your notebook will continue to use TensorFlow 1.x via the <code>%tensorflow_version 1.x</code> magic:\n",
              "<a href=\"https://colab.research.google.com/notebooks/tensorflow_version.ipynb\" target=\"_blank\">more info</a>.</p>\n"
            ],
            "text/plain": [
              "<IPython.core.display.HTML object>"
            ]
          },
          "metadata": {
            "tags": []
          }
        },
        {
          "output_type": "stream",
          "text": [
            "Using TensorFlow backend.\n"
          ],
          "name": "stderr"
        }
      ]
    },
    {
      "cell_type": "code",
      "metadata": {
        "id": "pzfcXg94qRIl",
        "colab_type": "code",
        "outputId": "b0a519d8-c394-463a-83d8-b4d5196c6f9c",
        "colab": {
          "base_uri": "https://localhost:8080/",
          "height": 195
        }
      },
      "source": [
        "train = pd.read_csv(\"preprocessed_1.csv\")\n",
        "y= train[['price']]\n",
        "cols = train[['price','Unnamed: 0']]\n",
        "X = train.drop(columns=cols)\n",
        "X.head()"
      ],
      "execution_count": 0,
      "outputs": [
        {
          "output_type": "execute_result",
          "data": {
            "text/html": [
              "<div>\n",
              "<style scoped>\n",
              "    .dataframe tbody tr th:only-of-type {\n",
              "        vertical-align: middle;\n",
              "    }\n",
              "\n",
              "    .dataframe tbody tr th {\n",
              "        vertical-align: top;\n",
              "    }\n",
              "\n",
              "    .dataframe thead th {\n",
              "        text-align: right;\n",
              "    }\n",
              "</style>\n",
              "<table border=\"1\" class=\"dataframe\">\n",
              "  <thead>\n",
              "    <tr style=\"text-align: right;\">\n",
              "      <th></th>\n",
              "      <th>neighbourhood_group</th>\n",
              "      <th>latitude</th>\n",
              "      <th>longitude</th>\n",
              "      <th>room_type</th>\n",
              "      <th>minimum_nights</th>\n",
              "      <th>number_of_reviews</th>\n",
              "      <th>availability_365</th>\n",
              "    </tr>\n",
              "  </thead>\n",
              "  <tbody>\n",
              "    <tr>\n",
              "      <th>0</th>\n",
              "      <td>Brooklyn</td>\n",
              "      <td>40.64749</td>\n",
              "      <td>-73.97237</td>\n",
              "      <td>Private room</td>\n",
              "      <td>1</td>\n",
              "      <td>9</td>\n",
              "      <td>365</td>\n",
              "    </tr>\n",
              "    <tr>\n",
              "      <th>1</th>\n",
              "      <td>Manhattan</td>\n",
              "      <td>40.75362</td>\n",
              "      <td>-73.98377</td>\n",
              "      <td>Entire home/apt</td>\n",
              "      <td>1</td>\n",
              "      <td>45</td>\n",
              "      <td>355</td>\n",
              "    </tr>\n",
              "    <tr>\n",
              "      <th>2</th>\n",
              "      <td>Manhattan</td>\n",
              "      <td>40.80902</td>\n",
              "      <td>-73.94190</td>\n",
              "      <td>Private room</td>\n",
              "      <td>3</td>\n",
              "      <td>0</td>\n",
              "      <td>365</td>\n",
              "    </tr>\n",
              "    <tr>\n",
              "      <th>3</th>\n",
              "      <td>Brooklyn</td>\n",
              "      <td>40.68514</td>\n",
              "      <td>-73.95976</td>\n",
              "      <td>Entire home/apt</td>\n",
              "      <td>1</td>\n",
              "      <td>270</td>\n",
              "      <td>194</td>\n",
              "    </tr>\n",
              "    <tr>\n",
              "      <th>4</th>\n",
              "      <td>Manhattan</td>\n",
              "      <td>40.79851</td>\n",
              "      <td>-73.94399</td>\n",
              "      <td>Entire home/apt</td>\n",
              "      <td>10</td>\n",
              "      <td>9</td>\n",
              "      <td>0</td>\n",
              "    </tr>\n",
              "  </tbody>\n",
              "</table>\n",
              "</div>"
            ],
            "text/plain": [
              "  neighbourhood_group  latitude  ...  number_of_reviews availability_365\n",
              "0            Brooklyn  40.64749  ...                  9              365\n",
              "1           Manhattan  40.75362  ...                 45              355\n",
              "2           Manhattan  40.80902  ...                  0              365\n",
              "3            Brooklyn  40.68514  ...                270              194\n",
              "4           Manhattan  40.79851  ...                  9                0\n",
              "\n",
              "[5 rows x 7 columns]"
            ]
          },
          "metadata": {
            "tags": []
          },
          "execution_count": 9
        }
      ]
    },
    {
      "cell_type": "code",
      "metadata": {
        "id": "X2SipyOZrthV",
        "colab_type": "code",
        "outputId": "8a93161d-7221-4712-f6d8-8209408e216f",
        "colab": {
          "base_uri": "https://localhost:8080/",
          "height": 232
        }
      },
      "source": [
        "X = pd.get_dummies(X)\n",
        "X.head()"
      ],
      "execution_count": 0,
      "outputs": [
        {
          "output_type": "execute_result",
          "data": {
            "text/html": [
              "<div>\n",
              "<style scoped>\n",
              "    .dataframe tbody tr th:only-of-type {\n",
              "        vertical-align: middle;\n",
              "    }\n",
              "\n",
              "    .dataframe tbody tr th {\n",
              "        vertical-align: top;\n",
              "    }\n",
              "\n",
              "    .dataframe thead th {\n",
              "        text-align: right;\n",
              "    }\n",
              "</style>\n",
              "<table border=\"1\" class=\"dataframe\">\n",
              "  <thead>\n",
              "    <tr style=\"text-align: right;\">\n",
              "      <th></th>\n",
              "      <th>latitude</th>\n",
              "      <th>longitude</th>\n",
              "      <th>minimum_nights</th>\n",
              "      <th>number_of_reviews</th>\n",
              "      <th>availability_365</th>\n",
              "      <th>neighbourhood_group_Bronx</th>\n",
              "      <th>neighbourhood_group_Brooklyn</th>\n",
              "      <th>neighbourhood_group_Manhattan</th>\n",
              "      <th>neighbourhood_group_Queens</th>\n",
              "      <th>neighbourhood_group_Staten Island</th>\n",
              "      <th>room_type_Entire home/apt</th>\n",
              "      <th>room_type_Private room</th>\n",
              "      <th>room_type_Shared room</th>\n",
              "    </tr>\n",
              "  </thead>\n",
              "  <tbody>\n",
              "    <tr>\n",
              "      <th>0</th>\n",
              "      <td>40.64749</td>\n",
              "      <td>-73.97237</td>\n",
              "      <td>1</td>\n",
              "      <td>9</td>\n",
              "      <td>365</td>\n",
              "      <td>0</td>\n",
              "      <td>1</td>\n",
              "      <td>0</td>\n",
              "      <td>0</td>\n",
              "      <td>0</td>\n",
              "      <td>0</td>\n",
              "      <td>1</td>\n",
              "      <td>0</td>\n",
              "    </tr>\n",
              "    <tr>\n",
              "      <th>1</th>\n",
              "      <td>40.75362</td>\n",
              "      <td>-73.98377</td>\n",
              "      <td>1</td>\n",
              "      <td>45</td>\n",
              "      <td>355</td>\n",
              "      <td>0</td>\n",
              "      <td>0</td>\n",
              "      <td>1</td>\n",
              "      <td>0</td>\n",
              "      <td>0</td>\n",
              "      <td>1</td>\n",
              "      <td>0</td>\n",
              "      <td>0</td>\n",
              "    </tr>\n",
              "    <tr>\n",
              "      <th>2</th>\n",
              "      <td>40.80902</td>\n",
              "      <td>-73.94190</td>\n",
              "      <td>3</td>\n",
              "      <td>0</td>\n",
              "      <td>365</td>\n",
              "      <td>0</td>\n",
              "      <td>0</td>\n",
              "      <td>1</td>\n",
              "      <td>0</td>\n",
              "      <td>0</td>\n",
              "      <td>0</td>\n",
              "      <td>1</td>\n",
              "      <td>0</td>\n",
              "    </tr>\n",
              "    <tr>\n",
              "      <th>3</th>\n",
              "      <td>40.68514</td>\n",
              "      <td>-73.95976</td>\n",
              "      <td>1</td>\n",
              "      <td>270</td>\n",
              "      <td>194</td>\n",
              "      <td>0</td>\n",
              "      <td>1</td>\n",
              "      <td>0</td>\n",
              "      <td>0</td>\n",
              "      <td>0</td>\n",
              "      <td>1</td>\n",
              "      <td>0</td>\n",
              "      <td>0</td>\n",
              "    </tr>\n",
              "    <tr>\n",
              "      <th>4</th>\n",
              "      <td>40.79851</td>\n",
              "      <td>-73.94399</td>\n",
              "      <td>10</td>\n",
              "      <td>9</td>\n",
              "      <td>0</td>\n",
              "      <td>0</td>\n",
              "      <td>0</td>\n",
              "      <td>1</td>\n",
              "      <td>0</td>\n",
              "      <td>0</td>\n",
              "      <td>1</td>\n",
              "      <td>0</td>\n",
              "      <td>0</td>\n",
              "    </tr>\n",
              "  </tbody>\n",
              "</table>\n",
              "</div>"
            ],
            "text/plain": [
              "   latitude  longitude  ...  room_type_Private room  room_type_Shared room\n",
              "0  40.64749  -73.97237  ...                       1                      0\n",
              "1  40.75362  -73.98377  ...                       0                      0\n",
              "2  40.80902  -73.94190  ...                       1                      0\n",
              "3  40.68514  -73.95976  ...                       0                      0\n",
              "4  40.79851  -73.94399  ...                       0                      0\n",
              "\n",
              "[5 rows x 13 columns]"
            ]
          },
          "metadata": {
            "tags": []
          },
          "execution_count": 10
        }
      ]
    },
    {
      "cell_type": "code",
      "metadata": {
        "id": "NxZrGzsKr7e8",
        "colab_type": "code",
        "colab": {}
      },
      "source": [
        "X_train, X_test, y_train, y_test = train_test_split(X, y, test_size=0.2, random_state=42)"
      ],
      "execution_count": 0,
      "outputs": []
    },
    {
      "cell_type": "code",
      "metadata": {
        "id": "tyzkK5cwr_Wt",
        "colab_type": "code",
        "outputId": "298e946c-862b-4a9d-acf0-db58bbf046fb",
        "colab": {
          "base_uri": "https://localhost:8080/",
          "height": 232
        }
      },
      "source": [
        "scaler = StandardScaler(copy= True, with_mean= True, with_std= True)\n",
        "X_train_scaled = scaler.fit_transform(X_train)\n",
        "X_train_scaled = pd.DataFrame(X_train_scaled,columns = X_train.columns)\n",
        "X_train_scaled.head()"
      ],
      "execution_count": 0,
      "outputs": [
        {
          "output_type": "execute_result",
          "data": {
            "text/html": [
              "<div>\n",
              "<style scoped>\n",
              "    .dataframe tbody tr th:only-of-type {\n",
              "        vertical-align: middle;\n",
              "    }\n",
              "\n",
              "    .dataframe tbody tr th {\n",
              "        vertical-align: top;\n",
              "    }\n",
              "\n",
              "    .dataframe thead th {\n",
              "        text-align: right;\n",
              "    }\n",
              "</style>\n",
              "<table border=\"1\" class=\"dataframe\">\n",
              "  <thead>\n",
              "    <tr style=\"text-align: right;\">\n",
              "      <th></th>\n",
              "      <th>latitude</th>\n",
              "      <th>longitude</th>\n",
              "      <th>minimum_nights</th>\n",
              "      <th>number_of_reviews</th>\n",
              "      <th>availability_365</th>\n",
              "      <th>neighbourhood_group_Bronx</th>\n",
              "      <th>neighbourhood_group_Brooklyn</th>\n",
              "      <th>neighbourhood_group_Manhattan</th>\n",
              "      <th>neighbourhood_group_Queens</th>\n",
              "      <th>neighbourhood_group_Staten Island</th>\n",
              "      <th>room_type_Entire home/apt</th>\n",
              "      <th>room_type_Private room</th>\n",
              "      <th>room_type_Shared room</th>\n",
              "    </tr>\n",
              "  </thead>\n",
              "  <tbody>\n",
              "    <tr>\n",
              "      <th>0</th>\n",
              "      <td>-0.241172</td>\n",
              "      <td>-0.064946</td>\n",
              "      <td>-0.193025</td>\n",
              "      <td>-0.277198</td>\n",
              "      <td>-0.852862</td>\n",
              "      <td>-0.15029</td>\n",
              "      <td>1.195897</td>\n",
              "      <td>-0.894201</td>\n",
              "      <td>-0.359737</td>\n",
              "      <td>-0.087023</td>\n",
              "      <td>0.958818</td>\n",
              "      <td>-0.914614</td>\n",
              "      <td>-0.155111</td>\n",
              "    </tr>\n",
              "    <tr>\n",
              "      <th>1</th>\n",
              "      <td>2.204077</td>\n",
              "      <td>0.257030</td>\n",
              "      <td>-0.239596</td>\n",
              "      <td>-0.479451</td>\n",
              "      <td>-0.860447</td>\n",
              "      <td>-0.15029</td>\n",
              "      <td>-0.836193</td>\n",
              "      <td>1.118317</td>\n",
              "      <td>-0.359737</td>\n",
              "      <td>-0.087023</td>\n",
              "      <td>-1.042950</td>\n",
              "      <td>1.093358</td>\n",
              "      <td>-0.155111</td>\n",
              "    </tr>\n",
              "    <tr>\n",
              "      <th>2</th>\n",
              "      <td>-0.714824</td>\n",
              "      <td>-0.155542</td>\n",
              "      <td>-0.239596</td>\n",
              "      <td>-0.524396</td>\n",
              "      <td>-0.860447</td>\n",
              "      <td>-0.15029</td>\n",
              "      <td>1.195897</td>\n",
              "      <td>-0.894201</td>\n",
              "      <td>-0.359737</td>\n",
              "      <td>-0.087023</td>\n",
              "      <td>-1.042950</td>\n",
              "      <td>1.093358</td>\n",
              "      <td>-0.155111</td>\n",
              "    </tr>\n",
              "    <tr>\n",
              "      <th>3</th>\n",
              "      <td>-0.818573</td>\n",
              "      <td>0.459080</td>\n",
              "      <td>-0.193025</td>\n",
              "      <td>1.430714</td>\n",
              "      <td>1.164663</td>\n",
              "      <td>-0.15029</td>\n",
              "      <td>1.195897</td>\n",
              "      <td>-0.894201</td>\n",
              "      <td>-0.359737</td>\n",
              "      <td>-0.087023</td>\n",
              "      <td>0.958818</td>\n",
              "      <td>-0.914614</td>\n",
              "      <td>-0.155111</td>\n",
              "    </tr>\n",
              "    <tr>\n",
              "      <th>4</th>\n",
              "      <td>0.332197</td>\n",
              "      <td>1.231213</td>\n",
              "      <td>-0.099884</td>\n",
              "      <td>-0.232253</td>\n",
              "      <td>-0.860447</td>\n",
              "      <td>-0.15029</td>\n",
              "      <td>-0.836193</td>\n",
              "      <td>-0.894201</td>\n",
              "      <td>2.779812</td>\n",
              "      <td>-0.087023</td>\n",
              "      <td>-1.042950</td>\n",
              "      <td>1.093358</td>\n",
              "      <td>-0.155111</td>\n",
              "    </tr>\n",
              "  </tbody>\n",
              "</table>\n",
              "</div>"
            ],
            "text/plain": [
              "   latitude  longitude  ...  room_type_Private room  room_type_Shared room\n",
              "0 -0.241172  -0.064946  ...               -0.914614              -0.155111\n",
              "1  2.204077   0.257030  ...                1.093358              -0.155111\n",
              "2 -0.714824  -0.155542  ...                1.093358              -0.155111\n",
              "3 -0.818573   0.459080  ...               -0.914614              -0.155111\n",
              "4  0.332197   1.231213  ...                1.093358              -0.155111\n",
              "\n",
              "[5 rows x 13 columns]"
            ]
          },
          "metadata": {
            "tags": []
          },
          "execution_count": 12
        }
      ]
    },
    {
      "cell_type": "code",
      "metadata": {
        "id": "SnR7HGEisKx3",
        "colab_type": "code",
        "outputId": "e64d2b03-0ae8-41a4-e8f6-e3c8100fed18",
        "colab": {
          "base_uri": "https://localhost:8080/",
          "height": 232
        }
      },
      "source": [
        "X_test_scaled = scaler.fit_transform(X_test)\n",
        "X_test_scaled = pd.DataFrame(X_test_scaled,columns = X_test.columns)\n",
        "X_test_scaled.head()"
      ],
      "execution_count": 0,
      "outputs": [
        {
          "output_type": "execute_result",
          "data": {
            "text/html": [
              "<div>\n",
              "<style scoped>\n",
              "    .dataframe tbody tr th:only-of-type {\n",
              "        vertical-align: middle;\n",
              "    }\n",
              "\n",
              "    .dataframe tbody tr th {\n",
              "        vertical-align: top;\n",
              "    }\n",
              "\n",
              "    .dataframe thead th {\n",
              "        text-align: right;\n",
              "    }\n",
              "</style>\n",
              "<table border=\"1\" class=\"dataframe\">\n",
              "  <thead>\n",
              "    <tr style=\"text-align: right;\">\n",
              "      <th></th>\n",
              "      <th>latitude</th>\n",
              "      <th>longitude</th>\n",
              "      <th>minimum_nights</th>\n",
              "      <th>number_of_reviews</th>\n",
              "      <th>availability_365</th>\n",
              "      <th>neighbourhood_group_Bronx</th>\n",
              "      <th>neighbourhood_group_Brooklyn</th>\n",
              "      <th>neighbourhood_group_Manhattan</th>\n",
              "      <th>neighbourhood_group_Queens</th>\n",
              "      <th>neighbourhood_group_Staten Island</th>\n",
              "      <th>room_type_Entire home/apt</th>\n",
              "      <th>room_type_Private room</th>\n",
              "      <th>room_type_Shared room</th>\n",
              "    </tr>\n",
              "  </thead>\n",
              "  <tbody>\n",
              "    <tr>\n",
              "      <th>0</th>\n",
              "      <td>-1.570803</td>\n",
              "      <td>-0.560746</td>\n",
              "      <td>-0.221959</td>\n",
              "      <td>0.870704</td>\n",
              "      <td>0.603535</td>\n",
              "      <td>-0.154158</td>\n",
              "      <td>1.199946</td>\n",
              "      <td>-0.882410</td>\n",
              "      <td>-0.371153</td>\n",
              "      <td>-0.090246</td>\n",
              "      <td>0.971865</td>\n",
              "      <td>-0.924985</td>\n",
              "      <td>-0.158957</td>\n",
              "    </tr>\n",
              "    <tr>\n",
              "      <th>1</th>\n",
              "      <td>-0.411113</td>\n",
              "      <td>0.939030</td>\n",
              "      <td>0.896940</td>\n",
              "      <td>-0.514644</td>\n",
              "      <td>-0.284074</td>\n",
              "      <td>-0.154158</td>\n",
              "      <td>-0.833371</td>\n",
              "      <td>-0.882410</td>\n",
              "      <td>2.694307</td>\n",
              "      <td>-0.090246</td>\n",
              "      <td>-1.028949</td>\n",
              "      <td>1.081098</td>\n",
              "      <td>-0.158957</td>\n",
              "    </tr>\n",
              "    <tr>\n",
              "      <th>2</th>\n",
              "      <td>0.590204</td>\n",
              "      <td>-0.826283</td>\n",
              "      <td>-0.284120</td>\n",
              "      <td>-0.134790</td>\n",
              "      <td>-0.842656</td>\n",
              "      <td>-0.154158</td>\n",
              "      <td>-0.833371</td>\n",
              "      <td>1.133261</td>\n",
              "      <td>-0.371153</td>\n",
              "      <td>-0.090246</td>\n",
              "      <td>-1.028949</td>\n",
              "      <td>1.081098</td>\n",
              "      <td>-0.158957</td>\n",
              "    </tr>\n",
              "    <tr>\n",
              "      <th>3</th>\n",
              "      <td>-0.393291</td>\n",
              "      <td>-1.262199</td>\n",
              "      <td>-0.284120</td>\n",
              "      <td>-0.402922</td>\n",
              "      <td>1.238634</td>\n",
              "      <td>-0.154158</td>\n",
              "      <td>-0.833371</td>\n",
              "      <td>1.133261</td>\n",
              "      <td>-0.371153</td>\n",
              "      <td>-0.090246</td>\n",
              "      <td>0.971865</td>\n",
              "      <td>-0.924985</td>\n",
              "      <td>-0.158957</td>\n",
              "    </tr>\n",
              "    <tr>\n",
              "      <th>4</th>\n",
              "      <td>1.240969</td>\n",
              "      <td>0.401528</td>\n",
              "      <td>-0.284120</td>\n",
              "      <td>0.155686</td>\n",
              "      <td>-0.613102</td>\n",
              "      <td>-0.154158</td>\n",
              "      <td>-0.833371</td>\n",
              "      <td>1.133261</td>\n",
              "      <td>-0.371153</td>\n",
              "      <td>-0.090246</td>\n",
              "      <td>0.971865</td>\n",
              "      <td>-0.924985</td>\n",
              "      <td>-0.158957</td>\n",
              "    </tr>\n",
              "  </tbody>\n",
              "</table>\n",
              "</div>"
            ],
            "text/plain": [
              "   latitude  longitude  ...  room_type_Private room  room_type_Shared room\n",
              "0 -1.570803  -0.560746  ...               -0.924985              -0.158957\n",
              "1 -0.411113   0.939030  ...                1.081098              -0.158957\n",
              "2  0.590204  -0.826283  ...                1.081098              -0.158957\n",
              "3 -0.393291  -1.262199  ...               -0.924985              -0.158957\n",
              "4  1.240969   0.401528  ...               -0.924985              -0.158957\n",
              "\n",
              "[5 rows x 13 columns]"
            ]
          },
          "metadata": {
            "tags": []
          },
          "execution_count": 13
        }
      ]
    },
    {
      "cell_type": "code",
      "metadata": {
        "id": "5DD3z3xfsO_8",
        "colab_type": "code",
        "colab": {}
      },
      "source": [
        "model = Sequential()\n",
        "model.add(Dense(30, input_dim=13, kernel_initializer='normal', activation='relu'))\n",
        "model.add(Dense(20, kernel_initializer='normal', activation='relu'))\n",
        "model.add(Dense(10, kernel_initializer='normal', activation='relu'))\n",
        "model.add(Dense(5, kernel_initializer='normal', activation='relu'))\n",
        "model.add(Dense(1, kernel_initializer='normal'))\n",
        "model.compile(loss='mean_squared_error', optimizer='adam')"
      ],
      "execution_count": 0,
      "outputs": []
    },
    {
      "cell_type": "code",
      "metadata": {
        "id": "hcYXOm47sVsY",
        "colab_type": "code",
        "outputId": "43d13524-6209-4f16-ffb0-6ca0abdeb064",
        "colab": {
          "base_uri": "https://localhost:8080/",
          "height": 322
        }
      },
      "source": [
        "model.fit(X_train_scaled, y_train,epochs=100,batch_size =50,verbose=0)"
      ],
      "execution_count": 0,
      "outputs": [
        {
          "output_type": "stream",
          "text": [
            "WARNING:tensorflow:From /usr/local/lib/python3.6/dist-packages/keras/backend/tensorflow_backend.py:1033: The name tf.assign_add is deprecated. Please use tf.compat.v1.assign_add instead.\n",
            "\n",
            "WARNING:tensorflow:From /usr/local/lib/python3.6/dist-packages/keras/backend/tensorflow_backend.py:1020: The name tf.assign is deprecated. Please use tf.compat.v1.assign instead.\n",
            "\n",
            "WARNING:tensorflow:From /usr/local/lib/python3.6/dist-packages/keras/backend/tensorflow_backend.py:3005: The name tf.Session is deprecated. Please use tf.compat.v1.Session instead.\n",
            "\n",
            "WARNING:tensorflow:From /usr/local/lib/python3.6/dist-packages/keras/backend/tensorflow_backend.py:190: The name tf.get_default_session is deprecated. Please use tf.compat.v1.get_default_session instead.\n",
            "\n",
            "WARNING:tensorflow:From /usr/local/lib/python3.6/dist-packages/keras/backend/tensorflow_backend.py:197: The name tf.ConfigProto is deprecated. Please use tf.compat.v1.ConfigProto instead.\n",
            "\n",
            "WARNING:tensorflow:From /usr/local/lib/python3.6/dist-packages/keras/backend/tensorflow_backend.py:207: The name tf.global_variables is deprecated. Please use tf.compat.v1.global_variables instead.\n",
            "\n",
            "WARNING:tensorflow:From /usr/local/lib/python3.6/dist-packages/keras/backend/tensorflow_backend.py:216: The name tf.is_variable_initialized is deprecated. Please use tf.compat.v1.is_variable_initialized instead.\n",
            "\n",
            "WARNING:tensorflow:From /usr/local/lib/python3.6/dist-packages/keras/backend/tensorflow_backend.py:223: The name tf.variables_initializer is deprecated. Please use tf.compat.v1.variables_initializer instead.\n",
            "\n"
          ],
          "name": "stdout"
        },
        {
          "output_type": "execute_result",
          "data": {
            "text/plain": [
              "<keras.callbacks.History at 0x7fbb0762fb70>"
            ]
          },
          "metadata": {
            "tags": []
          },
          "execution_count": 20
        }
      ]
    },
    {
      "cell_type": "code",
      "metadata": {
        "id": "vaQMiGvBtyy5",
        "colab_type": "code",
        "outputId": "cdbebeaf-c7f4-4aa9-a896-a549a96496d5",
        "colab": {
          "base_uri": "https://localhost:8080/",
          "height": 50
        }
      },
      "source": [
        "pred1 = model.predict(X_train_scaled)\n",
        "print('RMSE TRAIN : ',np.sqrt(mean_squared_error(pred1,y_train)))\n",
        "\n",
        "pred2 = model.predict(X_test_scaled)\n",
        "print('RMSE TEST : ',np.sqrt(mean_squared_error(pred2,y_test)))\n"
      ],
      "execution_count": 0,
      "outputs": [
        {
          "output_type": "stream",
          "text": [
            "RMSE TRAIN :  229.20529559751063\n",
            "RMSE TEST :  194.12012800738447\n"
          ],
          "name": "stdout"
        }
      ]
    }
  ]
}