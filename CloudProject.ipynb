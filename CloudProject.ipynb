{
  "nbformat": 4,
  "nbformat_minor": 0,
  "metadata": {
    "colab": {
      "name": "CloudProject.ipynb",
      "provenance": [],
      "collapsed_sections": [],
      "authorship_tag": "ABX9TyMmfAVfxcSqRBssNtimJVKe",
      "include_colab_link": true
    },
    "kernelspec": {
      "name": "python3",
      "display_name": "Python 3"
    }
  },
  "cells": [
    {
      "cell_type": "markdown",
      "metadata": {
        "id": "view-in-github",
        "colab_type": "text"
      },
      "source": [
        "<a href=\"https://colab.research.google.com/github/ps11061601/CCProject/blob/master/CloudProject.ipynb\" target=\"_parent\"><img src=\"https://colab.research.google.com/assets/colab-badge.svg\" alt=\"Open In Colab\"/></a>"
      ]
    },
    {
      "cell_type": "code",
      "metadata": {
        "id": "2f_uy02lNtYW",
        "colab_type": "code",
        "colab": {}
      },
      "source": [
        "# Importing Libraries\n",
        "import numpy as np\n",
        "import pandas as pd\n",
        "from sklearn.preprocessing import StandardScaler\n",
        "from sklearn.linear_model import LinearRegression\n",
        "from sklearn.metrics import mean_squared_error\n",
        "\n"
      ],
      "execution_count": 0,
      "outputs": []
    },
    {
      "cell_type": "code",
      "metadata": {
        "id": "PbyFkZPWPUK7",
        "colab_type": "code",
        "outputId": "11d135d6-a6dd-440e-979d-88f8513c0b17",
        "colab": {
          "base_uri": "https://localhost:8080/",
          "height": 400
        }
      },
      "source": [
        "#Reading the csv file into a pandas dataframe\n",
        "train = pd.read_csv(\"AB_NYC_2019.csv\")\n",
        "train.head()"
      ],
      "execution_count": 97,
      "outputs": [
        {
          "output_type": "execute_result",
          "data": {
            "text/html": [
              "<div>\n",
              "<style scoped>\n",
              "    .dataframe tbody tr th:only-of-type {\n",
              "        vertical-align: middle;\n",
              "    }\n",
              "\n",
              "    .dataframe tbody tr th {\n",
              "        vertical-align: top;\n",
              "    }\n",
              "\n",
              "    .dataframe thead th {\n",
              "        text-align: right;\n",
              "    }\n",
              "</style>\n",
              "<table border=\"1\" class=\"dataframe\">\n",
              "  <thead>\n",
              "    <tr style=\"text-align: right;\">\n",
              "      <th></th>\n",
              "      <th>id</th>\n",
              "      <th>name</th>\n",
              "      <th>host_id</th>\n",
              "      <th>host_name</th>\n",
              "      <th>neighbourhood_group</th>\n",
              "      <th>neighbourhood</th>\n",
              "      <th>latitude</th>\n",
              "      <th>longitude</th>\n",
              "      <th>room_type</th>\n",
              "      <th>price</th>\n",
              "      <th>minimum_nights</th>\n",
              "      <th>number_of_reviews</th>\n",
              "      <th>last_review</th>\n",
              "      <th>reviews_per_month</th>\n",
              "      <th>calculated_host_listings_count</th>\n",
              "      <th>availability_365</th>\n",
              "    </tr>\n",
              "  </thead>\n",
              "  <tbody>\n",
              "    <tr>\n",
              "      <th>0</th>\n",
              "      <td>2539</td>\n",
              "      <td>Clean &amp; quiet apt home by the park</td>\n",
              "      <td>2787</td>\n",
              "      <td>John</td>\n",
              "      <td>Brooklyn</td>\n",
              "      <td>Kensington</td>\n",
              "      <td>40.64749</td>\n",
              "      <td>-73.97237</td>\n",
              "      <td>Private room</td>\n",
              "      <td>149</td>\n",
              "      <td>1</td>\n",
              "      <td>9</td>\n",
              "      <td>2018-10-19</td>\n",
              "      <td>0.21</td>\n",
              "      <td>6</td>\n",
              "      <td>365</td>\n",
              "    </tr>\n",
              "    <tr>\n",
              "      <th>1</th>\n",
              "      <td>2595</td>\n",
              "      <td>Skylit Midtown Castle</td>\n",
              "      <td>2845</td>\n",
              "      <td>Jennifer</td>\n",
              "      <td>Manhattan</td>\n",
              "      <td>Midtown</td>\n",
              "      <td>40.75362</td>\n",
              "      <td>-73.98377</td>\n",
              "      <td>Entire home/apt</td>\n",
              "      <td>225</td>\n",
              "      <td>1</td>\n",
              "      <td>45</td>\n",
              "      <td>2019-05-21</td>\n",
              "      <td>0.38</td>\n",
              "      <td>2</td>\n",
              "      <td>355</td>\n",
              "    </tr>\n",
              "    <tr>\n",
              "      <th>2</th>\n",
              "      <td>3647</td>\n",
              "      <td>THE VILLAGE OF HARLEM....NEW YORK !</td>\n",
              "      <td>4632</td>\n",
              "      <td>Elisabeth</td>\n",
              "      <td>Manhattan</td>\n",
              "      <td>Harlem</td>\n",
              "      <td>40.80902</td>\n",
              "      <td>-73.94190</td>\n",
              "      <td>Private room</td>\n",
              "      <td>150</td>\n",
              "      <td>3</td>\n",
              "      <td>0</td>\n",
              "      <td>NaN</td>\n",
              "      <td>NaN</td>\n",
              "      <td>1</td>\n",
              "      <td>365</td>\n",
              "    </tr>\n",
              "    <tr>\n",
              "      <th>3</th>\n",
              "      <td>3831</td>\n",
              "      <td>Cozy Entire Floor of Brownstone</td>\n",
              "      <td>4869</td>\n",
              "      <td>LisaRoxanne</td>\n",
              "      <td>Brooklyn</td>\n",
              "      <td>Clinton Hill</td>\n",
              "      <td>40.68514</td>\n",
              "      <td>-73.95976</td>\n",
              "      <td>Entire home/apt</td>\n",
              "      <td>89</td>\n",
              "      <td>1</td>\n",
              "      <td>270</td>\n",
              "      <td>2019-07-05</td>\n",
              "      <td>4.64</td>\n",
              "      <td>1</td>\n",
              "      <td>194</td>\n",
              "    </tr>\n",
              "    <tr>\n",
              "      <th>4</th>\n",
              "      <td>5022</td>\n",
              "      <td>Entire Apt: Spacious Studio/Loft by central park</td>\n",
              "      <td>7192</td>\n",
              "      <td>Laura</td>\n",
              "      <td>Manhattan</td>\n",
              "      <td>East Harlem</td>\n",
              "      <td>40.79851</td>\n",
              "      <td>-73.94399</td>\n",
              "      <td>Entire home/apt</td>\n",
              "      <td>80</td>\n",
              "      <td>10</td>\n",
              "      <td>9</td>\n",
              "      <td>2018-11-19</td>\n",
              "      <td>0.10</td>\n",
              "      <td>1</td>\n",
              "      <td>0</td>\n",
              "    </tr>\n",
              "  </tbody>\n",
              "</table>\n",
              "</div>"
            ],
            "text/plain": [
              "     id  ... availability_365\n",
              "0  2539  ...              365\n",
              "1  2595  ...              355\n",
              "2  3647  ...              365\n",
              "3  3831  ...              194\n",
              "4  5022  ...                0\n",
              "\n",
              "[5 rows x 16 columns]"
            ]
          },
          "metadata": {
            "tags": []
          },
          "execution_count": 97
        }
      ]
    },
    {
      "cell_type": "markdown",
      "metadata": {
        "id": "DCg4TzwUSNhH",
        "colab_type": "text"
      },
      "source": [
        "# New Section"
      ]
    },
    {
      "cell_type": "code",
      "metadata": {
        "id": "KgQhMD-RQGQo",
        "colab_type": "code",
        "outputId": "f4249aab-9464-4aa8-b344-086a11a8fe33",
        "colab": {
          "base_uri": "https://localhost:8080/",
          "height": 304
        }
      },
      "source": [
        "train.describe()"
      ],
      "execution_count": 98,
      "outputs": [
        {
          "output_type": "execute_result",
          "data": {
            "text/html": [
              "<div>\n",
              "<style scoped>\n",
              "    .dataframe tbody tr th:only-of-type {\n",
              "        vertical-align: middle;\n",
              "    }\n",
              "\n",
              "    .dataframe tbody tr th {\n",
              "        vertical-align: top;\n",
              "    }\n",
              "\n",
              "    .dataframe thead th {\n",
              "        text-align: right;\n",
              "    }\n",
              "</style>\n",
              "<table border=\"1\" class=\"dataframe\">\n",
              "  <thead>\n",
              "    <tr style=\"text-align: right;\">\n",
              "      <th></th>\n",
              "      <th>id</th>\n",
              "      <th>host_id</th>\n",
              "      <th>latitude</th>\n",
              "      <th>longitude</th>\n",
              "      <th>price</th>\n",
              "      <th>minimum_nights</th>\n",
              "      <th>number_of_reviews</th>\n",
              "      <th>reviews_per_month</th>\n",
              "      <th>calculated_host_listings_count</th>\n",
              "      <th>availability_365</th>\n",
              "    </tr>\n",
              "  </thead>\n",
              "  <tbody>\n",
              "    <tr>\n",
              "      <th>count</th>\n",
              "      <td>4.889500e+04</td>\n",
              "      <td>4.889500e+04</td>\n",
              "      <td>48895.000000</td>\n",
              "      <td>48895.000000</td>\n",
              "      <td>48895.000000</td>\n",
              "      <td>48895.000000</td>\n",
              "      <td>48895.000000</td>\n",
              "      <td>38843.000000</td>\n",
              "      <td>48895.000000</td>\n",
              "      <td>48895.000000</td>\n",
              "    </tr>\n",
              "    <tr>\n",
              "      <th>mean</th>\n",
              "      <td>1.901714e+07</td>\n",
              "      <td>6.762001e+07</td>\n",
              "      <td>40.728949</td>\n",
              "      <td>-73.952170</td>\n",
              "      <td>152.720687</td>\n",
              "      <td>7.029962</td>\n",
              "      <td>23.274466</td>\n",
              "      <td>1.373221</td>\n",
              "      <td>7.143982</td>\n",
              "      <td>112.781327</td>\n",
              "    </tr>\n",
              "    <tr>\n",
              "      <th>std</th>\n",
              "      <td>1.098311e+07</td>\n",
              "      <td>7.861097e+07</td>\n",
              "      <td>0.054530</td>\n",
              "      <td>0.046157</td>\n",
              "      <td>240.154170</td>\n",
              "      <td>20.510550</td>\n",
              "      <td>44.550582</td>\n",
              "      <td>1.680442</td>\n",
              "      <td>32.952519</td>\n",
              "      <td>131.622289</td>\n",
              "    </tr>\n",
              "    <tr>\n",
              "      <th>min</th>\n",
              "      <td>2.539000e+03</td>\n",
              "      <td>2.438000e+03</td>\n",
              "      <td>40.499790</td>\n",
              "      <td>-74.244420</td>\n",
              "      <td>0.000000</td>\n",
              "      <td>1.000000</td>\n",
              "      <td>0.000000</td>\n",
              "      <td>0.010000</td>\n",
              "      <td>1.000000</td>\n",
              "      <td>0.000000</td>\n",
              "    </tr>\n",
              "    <tr>\n",
              "      <th>25%</th>\n",
              "      <td>9.471945e+06</td>\n",
              "      <td>7.822033e+06</td>\n",
              "      <td>40.690100</td>\n",
              "      <td>-73.983070</td>\n",
              "      <td>69.000000</td>\n",
              "      <td>1.000000</td>\n",
              "      <td>1.000000</td>\n",
              "      <td>0.190000</td>\n",
              "      <td>1.000000</td>\n",
              "      <td>0.000000</td>\n",
              "    </tr>\n",
              "    <tr>\n",
              "      <th>50%</th>\n",
              "      <td>1.967728e+07</td>\n",
              "      <td>3.079382e+07</td>\n",
              "      <td>40.723070</td>\n",
              "      <td>-73.955680</td>\n",
              "      <td>106.000000</td>\n",
              "      <td>3.000000</td>\n",
              "      <td>5.000000</td>\n",
              "      <td>0.720000</td>\n",
              "      <td>1.000000</td>\n",
              "      <td>45.000000</td>\n",
              "    </tr>\n",
              "    <tr>\n",
              "      <th>75%</th>\n",
              "      <td>2.915218e+07</td>\n",
              "      <td>1.074344e+08</td>\n",
              "      <td>40.763115</td>\n",
              "      <td>-73.936275</td>\n",
              "      <td>175.000000</td>\n",
              "      <td>5.000000</td>\n",
              "      <td>24.000000</td>\n",
              "      <td>2.020000</td>\n",
              "      <td>2.000000</td>\n",
              "      <td>227.000000</td>\n",
              "    </tr>\n",
              "    <tr>\n",
              "      <th>max</th>\n",
              "      <td>3.648724e+07</td>\n",
              "      <td>2.743213e+08</td>\n",
              "      <td>40.913060</td>\n",
              "      <td>-73.712990</td>\n",
              "      <td>10000.000000</td>\n",
              "      <td>1250.000000</td>\n",
              "      <td>629.000000</td>\n",
              "      <td>58.500000</td>\n",
              "      <td>327.000000</td>\n",
              "      <td>365.000000</td>\n",
              "    </tr>\n",
              "  </tbody>\n",
              "</table>\n",
              "</div>"
            ],
            "text/plain": [
              "                 id  ...  availability_365\n",
              "count  4.889500e+04  ...      48895.000000\n",
              "mean   1.901714e+07  ...        112.781327\n",
              "std    1.098311e+07  ...        131.622289\n",
              "min    2.539000e+03  ...          0.000000\n",
              "25%    9.471945e+06  ...          0.000000\n",
              "50%    1.967728e+07  ...         45.000000\n",
              "75%    2.915218e+07  ...        227.000000\n",
              "max    3.648724e+07  ...        365.000000\n",
              "\n",
              "[8 rows x 10 columns]"
            ]
          },
          "metadata": {
            "tags": []
          },
          "execution_count": 98
        }
      ]
    },
    {
      "cell_type": "code",
      "metadata": {
        "id": "0gEco5IP772E",
        "colab_type": "code",
        "outputId": "1c067421-86b1-48df-b610-9db0c7629469",
        "colab": {
          "base_uri": "https://localhost:8080/",
          "height": 302
        }
      },
      "source": [
        "train.isna().sum()"
      ],
      "execution_count": 99,
      "outputs": [
        {
          "output_type": "execute_result",
          "data": {
            "text/plain": [
              "id                                    0\n",
              "name                                 16\n",
              "host_id                               0\n",
              "host_name                            21\n",
              "neighbourhood_group                   0\n",
              "neighbourhood                         0\n",
              "latitude                              0\n",
              "longitude                             0\n",
              "room_type                             0\n",
              "price                                 0\n",
              "minimum_nights                        0\n",
              "number_of_reviews                     0\n",
              "last_review                       10052\n",
              "reviews_per_month                 10052\n",
              "calculated_host_listings_count        0\n",
              "availability_365                      0\n",
              "dtype: int64"
            ]
          },
          "metadata": {
            "tags": []
          },
          "execution_count": 99
        }
      ]
    },
    {
      "cell_type": "code",
      "metadata": {
        "id": "vbQi7xvW8Ffs",
        "colab_type": "code",
        "colab": {}
      },
      "source": [
        "train['last_review']=pd.to_datetime(train['last_review'])\n",
        "train.last_review.fillna(max(train.last_review),inplace=True)\n",
        "train.reviews_per_month.fillna(0,inplace=True)\n",
        "col =train[['id','name']]\n",
        "train=train.drop(columns=col)"
      ],
      "execution_count": 0,
      "outputs": []
    },
    {
      "cell_type": "code",
      "metadata": {
        "id": "J6EHtQim88KR",
        "colab_type": "code",
        "colab": {}
      },
      "source": [
        "train=train[train.price>0]\n",
        "train=train[train.availability_365>0]"
      ],
      "execution_count": 0,
      "outputs": []
    },
    {
      "cell_type": "code",
      "metadata": {
        "id": "uKbU2ZkU9FCg",
        "colab_type": "code",
        "colab": {}
      },
      "source": [
        "# Setting the target variable and independent variable\n",
        "X=['latitude','longitude','minimum_nights','number_of_reviews','availability_365','room_type','neighbourhood_group','neighbourhood']\n",
        "y='price'"
      ],
      "execution_count": 0,
      "outputs": []
    },
    {
      "cell_type": "code",
      "metadata": {
        "id": "BeIe5PuC9MaU",
        "colab_type": "code",
        "outputId": "41ce3828-b119-4650-adcc-ba07bbdd34d3",
        "colab": {
          "base_uri": "https://localhost:8080/",
          "height": 195
        }
      },
      "source": [
        "X_train = train[X]\n",
        "X_train.head()"
      ],
      "execution_count": 103,
      "outputs": [
        {
          "output_type": "execute_result",
          "data": {
            "text/html": [
              "<div>\n",
              "<style scoped>\n",
              "    .dataframe tbody tr th:only-of-type {\n",
              "        vertical-align: middle;\n",
              "    }\n",
              "\n",
              "    .dataframe tbody tr th {\n",
              "        vertical-align: top;\n",
              "    }\n",
              "\n",
              "    .dataframe thead th {\n",
              "        text-align: right;\n",
              "    }\n",
              "</style>\n",
              "<table border=\"1\" class=\"dataframe\">\n",
              "  <thead>\n",
              "    <tr style=\"text-align: right;\">\n",
              "      <th></th>\n",
              "      <th>latitude</th>\n",
              "      <th>longitude</th>\n",
              "      <th>minimum_nights</th>\n",
              "      <th>number_of_reviews</th>\n",
              "      <th>availability_365</th>\n",
              "      <th>room_type</th>\n",
              "      <th>neighbourhood_group</th>\n",
              "      <th>neighbourhood</th>\n",
              "    </tr>\n",
              "  </thead>\n",
              "  <tbody>\n",
              "    <tr>\n",
              "      <th>0</th>\n",
              "      <td>40.64749</td>\n",
              "      <td>-73.97237</td>\n",
              "      <td>1</td>\n",
              "      <td>9</td>\n",
              "      <td>365</td>\n",
              "      <td>Private room</td>\n",
              "      <td>Brooklyn</td>\n",
              "      <td>Kensington</td>\n",
              "    </tr>\n",
              "    <tr>\n",
              "      <th>1</th>\n",
              "      <td>40.75362</td>\n",
              "      <td>-73.98377</td>\n",
              "      <td>1</td>\n",
              "      <td>45</td>\n",
              "      <td>355</td>\n",
              "      <td>Entire home/apt</td>\n",
              "      <td>Manhattan</td>\n",
              "      <td>Midtown</td>\n",
              "    </tr>\n",
              "    <tr>\n",
              "      <th>2</th>\n",
              "      <td>40.80902</td>\n",
              "      <td>-73.94190</td>\n",
              "      <td>3</td>\n",
              "      <td>0</td>\n",
              "      <td>365</td>\n",
              "      <td>Private room</td>\n",
              "      <td>Manhattan</td>\n",
              "      <td>Harlem</td>\n",
              "    </tr>\n",
              "    <tr>\n",
              "      <th>3</th>\n",
              "      <td>40.68514</td>\n",
              "      <td>-73.95976</td>\n",
              "      <td>1</td>\n",
              "      <td>270</td>\n",
              "      <td>194</td>\n",
              "      <td>Entire home/apt</td>\n",
              "      <td>Brooklyn</td>\n",
              "      <td>Clinton Hill</td>\n",
              "    </tr>\n",
              "    <tr>\n",
              "      <th>5</th>\n",
              "      <td>40.74767</td>\n",
              "      <td>-73.97500</td>\n",
              "      <td>3</td>\n",
              "      <td>74</td>\n",
              "      <td>129</td>\n",
              "      <td>Entire home/apt</td>\n",
              "      <td>Manhattan</td>\n",
              "      <td>Murray Hill</td>\n",
              "    </tr>\n",
              "  </tbody>\n",
              "</table>\n",
              "</div>"
            ],
            "text/plain": [
              "   latitude  longitude  ...  neighbourhood_group  neighbourhood\n",
              "0  40.64749  -73.97237  ...             Brooklyn     Kensington\n",
              "1  40.75362  -73.98377  ...            Manhattan        Midtown\n",
              "2  40.80902  -73.94190  ...            Manhattan         Harlem\n",
              "3  40.68514  -73.95976  ...             Brooklyn   Clinton Hill\n",
              "5  40.74767  -73.97500  ...            Manhattan    Murray Hill\n",
              "\n",
              "[5 rows x 8 columns]"
            ]
          },
          "metadata": {
            "tags": []
          },
          "execution_count": 103
        }
      ]
    },
    {
      "cell_type": "code",
      "metadata": {
        "id": "TffXcIeE9V9A",
        "colab_type": "code",
        "outputId": "e1ace662-fbda-47f1-c385-e7b33562dc9a",
        "colab": {
          "base_uri": "https://localhost:8080/",
          "height": 118
        }
      },
      "source": [
        "y_train = train[y]\n",
        "y_train.head()"
      ],
      "execution_count": 104,
      "outputs": [
        {
          "output_type": "execute_result",
          "data": {
            "text/plain": [
              "0    149\n",
              "1    225\n",
              "2    150\n",
              "3     89\n",
              "5    200\n",
              "Name: price, dtype: int64"
            ]
          },
          "metadata": {
            "tags": []
          },
          "execution_count": 104
        }
      ]
    },
    {
      "cell_type": "code",
      "metadata": {
        "id": "6E0geiou9gbp",
        "colab_type": "code",
        "colab": {}
      },
      "source": [
        "# encoding the categorical data for making data suitable for machine to learn\n",
        "X=pd.get_dummies(X_train,prefix_sep='_',drop_first=True)"
      ],
      "execution_count": 0,
      "outputs": []
    },
    {
      "cell_type": "code",
      "metadata": {
        "id": "FxQjEYL69npy",
        "colab_type": "code",
        "outputId": "eadd899c-0e71-4911-a14e-4ba8a6c0d5ef",
        "colab": {
          "base_uri": "https://localhost:8080/",
          "height": 34
        }
      },
      "source": [
        "X.shape"
      ],
      "execution_count": 106,
      "outputs": [
        {
          "output_type": "execute_result",
          "data": {
            "text/plain": [
              "(31354, 228)"
            ]
          },
          "metadata": {
            "tags": []
          },
          "execution_count": 106
        }
      ]
    },
    {
      "cell_type": "code",
      "metadata": {
        "id": "vcCgve_99t0n",
        "colab_type": "code",
        "colab": {}
      },
      "source": [
        "##Prices are not normally distributed as well as there is alot of noise. Logarithmic conversion of data with huge variance can be normalised by logarithmic algorithm.\n",
        "y=np.log10(y_train)"
      ],
      "execution_count": 0,
      "outputs": []
    },
    {
      "cell_type": "code",
      "metadata": {
        "id": "KJPqc4U299FS",
        "colab_type": "code",
        "colab": {}
      },
      "source": [
        "from sklearn.model_selection import train_test_split\n",
        "X_train,X_test,y_train,y_test=train_test_split(X,y,test_size=0.25,random_state=1)"
      ],
      "execution_count": 0,
      "outputs": []
    },
    {
      "cell_type": "code",
      "metadata": {
        "id": "HDaIicza-CC7",
        "colab_type": "code",
        "colab": {}
      },
      "source": [
        "# importing important LinearRegression ML models\n",
        "from sklearn.linear_model import LinearRegression\n",
        "lr=LinearRegression()\n",
        "lr.fit(X_train,y_train)\n",
        "\n",
        "y_pred=lr.predict(X_test)"
      ],
      "execution_count": 0,
      "outputs": []
    },
    {
      "cell_type": "code",
      "metadata": {
        "id": "E_I7J-S2-GYJ",
        "colab_type": "code",
        "outputId": "4e1282f8-4a07-48c5-acb7-3cd17fed2208",
        "colab": {
          "base_uri": "https://localhost:8080/",
          "height": 67
        }
      },
      "source": [
        "# Evaluation of model\n",
        "\n",
        "from sklearn.metrics import mean_squared_error\n",
        "from sklearn import metrics\n",
        "from sklearn.metrics import r2_score\n",
        "\n",
        "print('RMSE:', np.round(np.sqrt(metrics.mean_squared_error(y_test, lr.predict(X_test))), 2))\n",
        "print('R2 score train:', np.round(r2_score(y_train, lr.predict(X_train), multioutput='variance_weighted'), 2))\n",
        "print('R2 score test:', np.round(r2_score(y_test, lr.predict(X_test), multioutput='variance_weighted'), 2))"
      ],
      "execution_count": 110,
      "outputs": [
        {
          "output_type": "stream",
          "text": [
            "RMSE: 175346.66\n",
            "R2 score train: 0.56\n",
            "R2 score test: -323240318617.87\n"
          ],
          "name": "stdout"
        }
      ]
    },
    {
      "cell_type": "code",
      "metadata": {
        "id": "z4Mjaf6I-Zvz",
        "colab_type": "code",
        "colab": {}
      },
      "source": [
        ""
      ],
      "execution_count": 0,
      "outputs": []
    },
    {
      "cell_type": "code",
      "metadata": {
        "id": "4y3dnDTj-aoB",
        "colab_type": "code",
        "colab": {}
      },
      "source": [
        "from sklearn.linear_model import BayesianRidge\n",
        "br=BayesianRidge()\n",
        "br.fit(X_train,y_train)\n",
        "y_predict=br.predict(X_test)"
      ],
      "execution_count": 0,
      "outputs": []
    },
    {
      "cell_type": "code",
      "metadata": {
        "id": "vxkrg8Ue-gct",
        "colab_type": "code",
        "outputId": "c66c2e0a-43a3-4bc3-f2b6-cb69cf318827",
        "colab": {
          "base_uri": "https://localhost:8080/",
          "height": 67
        }
      },
      "source": [
        "print('RMSE:', np.round(np.sqrt(metrics.mean_squared_error(y_test, lr.predict(X_test))), 2))\n",
        "print('R2 score train:', np.round(r2_score(y_train, lr.predict(X_train), multioutput='variance_weighted'), 2)*100)\n",
        "print('R2 score test:', np.round(r2_score(y_test, lr.predict(X_test), multioutput='variance_weighted'), 2))"
      ],
      "execution_count": 112,
      "outputs": [
        {
          "output_type": "stream",
          "text": [
            "RMSE: 175346.66\n",
            "R2 score train: 56.00000000000001\n",
            "R2 score test: -323240318617.87\n"
          ],
          "name": "stdout"
        }
      ]
    },
    {
      "cell_type": "code",
      "metadata": {
        "id": "g7FT7c2j-qBn",
        "colab_type": "code",
        "outputId": "dfa9dcd5-3879-4fb3-d2a3-01138299f66a",
        "colab": {
          "base_uri": "https://localhost:8080/",
          "height": 215
        }
      },
      "source": [
        "from sklearn.preprocessing import LabelEncoder\n",
        "le = LabelEncoder()                                            # Fit label encoder\n",
        "le.fit(train['neighbourhood_group'])\n",
        "train['neighbourhood_group']=le.transform(train['neighbourhood_group'])    # Transform labels to normalized encoding.\n",
        "\n",
        "le = LabelEncoder()\n",
        "le.fit(train['neighbourhood'])\n",
        "train['neighbourhood']=le.transform(train['neighbourhood'])\n",
        "\n",
        "le =LabelEncoder()\n",
        "le.fit(train['room_type'])\n",
        "train['room_type']=le.transform(train['room_type'])\n",
        "\n",
        "train.sort_values(by='price',ascending=True,inplace=True)\n",
        "\n",
        "train.head()"
      ],
      "execution_count": 113,
      "outputs": [
        {
          "output_type": "execute_result",
          "data": {
            "text/html": [
              "<div>\n",
              "<style scoped>\n",
              "    .dataframe tbody tr th:only-of-type {\n",
              "        vertical-align: middle;\n",
              "    }\n",
              "\n",
              "    .dataframe tbody tr th {\n",
              "        vertical-align: top;\n",
              "    }\n",
              "\n",
              "    .dataframe thead th {\n",
              "        text-align: right;\n",
              "    }\n",
              "</style>\n",
              "<table border=\"1\" class=\"dataframe\">\n",
              "  <thead>\n",
              "    <tr style=\"text-align: right;\">\n",
              "      <th></th>\n",
              "      <th>host_id</th>\n",
              "      <th>host_name</th>\n",
              "      <th>neighbourhood_group</th>\n",
              "      <th>neighbourhood</th>\n",
              "      <th>latitude</th>\n",
              "      <th>longitude</th>\n",
              "      <th>room_type</th>\n",
              "      <th>price</th>\n",
              "      <th>minimum_nights</th>\n",
              "      <th>number_of_reviews</th>\n",
              "      <th>last_review</th>\n",
              "      <th>reviews_per_month</th>\n",
              "      <th>calculated_host_listings_count</th>\n",
              "      <th>availability_365</th>\n",
              "    </tr>\n",
              "  </thead>\n",
              "  <tbody>\n",
              "    <tr>\n",
              "      <th>22835</th>\n",
              "      <td>97001292</td>\n",
              "      <td>Maria</td>\n",
              "      <td>3</td>\n",
              "      <td>104</td>\n",
              "      <td>40.69085</td>\n",
              "      <td>-73.79916</td>\n",
              "      <td>0</td>\n",
              "      <td>10</td>\n",
              "      <td>1</td>\n",
              "      <td>43</td>\n",
              "      <td>2019-06-12</td>\n",
              "      <td>1.68</td>\n",
              "      <td>1</td>\n",
              "      <td>252</td>\n",
              "    </tr>\n",
              "    <tr>\n",
              "      <th>31407</th>\n",
              "      <td>91034542</td>\n",
              "      <td>Maureen</td>\n",
              "      <td>2</td>\n",
              "      <td>111</td>\n",
              "      <td>40.74408</td>\n",
              "      <td>-73.97803</td>\n",
              "      <td>1</td>\n",
              "      <td>10</td>\n",
              "      <td>5</td>\n",
              "      <td>42</td>\n",
              "      <td>2019-06-30</td>\n",
              "      <td>2.87</td>\n",
              "      <td>1</td>\n",
              "      <td>2</td>\n",
              "    </tr>\n",
              "    <tr>\n",
              "      <th>32810</th>\n",
              "      <td>167570251</td>\n",
              "      <td>Rachel</td>\n",
              "      <td>1</td>\n",
              "      <td>188</td>\n",
              "      <td>40.66242</td>\n",
              "      <td>-73.99464</td>\n",
              "      <td>0</td>\n",
              "      <td>10</td>\n",
              "      <td>1</td>\n",
              "      <td>14</td>\n",
              "      <td>2018-10-28</td>\n",
              "      <td>1.06</td>\n",
              "      <td>1</td>\n",
              "      <td>4</td>\n",
              "    </tr>\n",
              "    <tr>\n",
              "      <th>33225</th>\n",
              "      <td>197169969</td>\n",
              "      <td>Maria</td>\n",
              "      <td>3</td>\n",
              "      <td>104</td>\n",
              "      <td>40.68939</td>\n",
              "      <td>-73.79886</td>\n",
              "      <td>0</td>\n",
              "      <td>10</td>\n",
              "      <td>2</td>\n",
              "      <td>22</td>\n",
              "      <td>2019-07-06</td>\n",
              "      <td>1.76</td>\n",
              "      <td>1</td>\n",
              "      <td>332</td>\n",
              "    </tr>\n",
              "    <tr>\n",
              "      <th>35386</th>\n",
              "      <td>47516406</td>\n",
              "      <td>Arthur</td>\n",
              "      <td>3</td>\n",
              "      <td>215</td>\n",
              "      <td>40.69139</td>\n",
              "      <td>-73.86086</td>\n",
              "      <td>1</td>\n",
              "      <td>10</td>\n",
              "      <td>7</td>\n",
              "      <td>4</td>\n",
              "      <td>2018-10-08</td>\n",
              "      <td>0.41</td>\n",
              "      <td>2</td>\n",
              "      <td>180</td>\n",
              "    </tr>\n",
              "  </tbody>\n",
              "</table>\n",
              "</div>"
            ],
            "text/plain": [
              "         host_id host_name  ...  calculated_host_listings_count  availability_365\n",
              "22835   97001292     Maria  ...                               1               252\n",
              "31407   91034542   Maureen  ...                               1                 2\n",
              "32810  167570251    Rachel  ...                               1                 4\n",
              "33225  197169969     Maria  ...                               1               332\n",
              "35386   47516406    Arthur  ...                               2               180\n",
              "\n",
              "[5 rows x 14 columns]"
            ]
          },
          "metadata": {
            "tags": []
          },
          "execution_count": 113
        }
      ]
    },
    {
      "cell_type": "code",
      "metadata": {
        "id": "GB-0_urX_1Vu",
        "colab_type": "code",
        "outputId": "e06b5c99-9dd0-441a-bf7b-5ef7ed36509c",
        "colab": {
          "base_uri": "https://localhost:8080/",
          "height": 34
        }
      },
      "source": [
        "#LinearRegression\n",
        "lm = LinearRegression()\n",
        "\n",
        "X = train[['neighbourhood_group','neighbourhood','room_type','minimum_nights','number_of_reviews','reviews_per_month','calculated_host_listings_count','availability_365']]\n",
        "y = np.log10(train['price'])\n",
        "\n",
        "X_train, X_test, y_train, y_test = train_test_split(X, y, test_size=0.2, random_state=101)\n",
        "\n",
        "lm.fit(X_train,y_train)"
      ],
      "execution_count": 114,
      "outputs": [
        {
          "output_type": "execute_result",
          "data": {
            "text/plain": [
              "LinearRegression(copy_X=True, fit_intercept=True, n_jobs=None, normalize=False)"
            ]
          },
          "metadata": {
            "tags": []
          },
          "execution_count": 114
        }
      ]
    },
    {
      "cell_type": "code",
      "metadata": {
        "id": "pk4LblQJ_83x",
        "colab_type": "code",
        "outputId": "bb12e959-7d3a-4b0a-ed74-19fa216b7b0f",
        "colab": {
          "base_uri": "https://localhost:8080/",
          "height": 101
        }
      },
      "source": [
        "from sklearn.metrics import mean_absolute_error\n",
        "y_predicts = lm.predict(X_test)\n",
        "\n",
        "print(\"\"\"\n",
        "        Mean Squared Error: {}\n",
        "        R2 Score: {}\n",
        "        Mean Absolute Error: {}\n",
        "     \"\"\".format(\n",
        "        np.sqrt(metrics.mean_squared_error(y_test, y_predicts)),\n",
        "        r2_score(y_test,y_predicts) * 100,\n",
        "        mean_absolute_error(y_test,y_predicts)\n",
        "        ))"
      ],
      "execution_count": 115,
      "outputs": [
        {
          "output_type": "stream",
          "text": [
            "\n",
            "        Mean Squared Error: 0.23559594585035462\n",
            "        R2 Score: 41.13846713448027\n",
            "        Mean Absolute Error: 0.1752493261889977\n",
            "     \n"
          ],
          "name": "stdout"
        }
      ]
    },
    {
      "cell_type": "code",
      "metadata": {
        "id": "_EwnHCqnACdY",
        "colab_type": "code",
        "outputId": "817d72f7-6e37-4ce8-f090-bf31b5d177ed",
        "colab": {
          "base_uri": "https://localhost:8080/",
          "height": 118
        }
      },
      "source": [
        "#Decision Tree\n",
        "from sklearn.tree import DecisionTreeRegressor\n",
        "\n",
        "Reg_tree=DecisionTreeRegressor(criterion='mse',max_depth=3,random_state=0)\n",
        "Reg_tree=Reg_tree.fit(X_train,y_train)\n",
        "\n",
        "y_predicts=Reg_tree.predict(X_test)\n",
        "print(\"median absolute deviation (MAD): \",np.mean(abs(np.multiply(np.array(y_test.T-y_predicts),np.array(1/y_test)))))\n",
        "print(\"\"\"\n",
        "        Mean Squared Error: {}\n",
        "        R2 Score: {}\n",
        "        Mean Absolute Error: {}\n",
        "     \"\"\".format(\n",
        "        np.sqrt(metrics.mean_squared_error(y_test, y_predicts)),\n",
        "        r2_score(y_test,y_predicts) * 100,\n",
        "        mean_absolute_error(y_test,y_predicts)\n",
        "        ))"
      ],
      "execution_count": 116,
      "outputs": [
        {
          "output_type": "stream",
          "text": [
            "median absolute deviation (MAD):  0.07891993758856267\n",
            "\n",
            "        Mean Squared Error: 0.22321601940282695\n",
            "        R2 Score: 47.1619647368602\n",
            "        Mean Absolute Error: 0.16371095833232624\n",
            "     \n"
          ],
          "name": "stdout"
        }
      ]
    },
    {
      "cell_type": "code",
      "metadata": {
        "id": "tSq-f7JcAI1w",
        "colab_type": "code",
        "outputId": "c8f9a37b-8454-44bc-a550-e6f7436b1280",
        "colab": {
          "base_uri": "https://localhost:8080/",
          "height": 402
        }
      },
      "source": [
        "from subprocess import check_call\n",
        "from PIL import Image, ImageDraw, ImageFont\n",
        "from IPython.display import Image as PImage\n",
        "from sklearn.tree import export_graphviz\n",
        "with open(\"tree1.dot\", 'w') as f:\n",
        "     f = export_graphviz(Reg_tree,\n",
        "                              out_file=f,\n",
        "                              max_depth = 3,\n",
        "                              impurity = True,\n",
        "                              feature_names = ['neighbourhood_group','neighbourhood','room_type','minimum_nights','number_of_reviews','reviews_per_month','calculated_host_listings_count','availability_365'],\n",
        "                              rounded = True,\n",
        "                              filled= True )\n",
        "check_call(['dot','-Tpng','tree1.dot','-o','tree1.png'])\n",
        "img = Image.open(\"tree1.png\")\n",
        "draw = ImageDraw.Draw(img)\n",
        "img.save('sample-out.png')\n",
        "PImage(\"sample-out.png\")"
      ],
      "execution_count": 117,
      "outputs": [
        {
          "output_type": "execute_result",
          "data": {
            "image/png": "[encoded data removed]",
            "text/plain": [
              "<IPython.core.display.Image object>"
            ]
          },
          "metadata": {
            "tags": []
          },
          "execution_count": 117
        }
      ]
    },
    {
      "cell_type": "code",
      "metadata": {
        "id": "y8xv27K4ANS7",
        "colab_type": "code",
        "outputId": "49abce11-17e0-4e8b-e7fb-d58c5f1bb0fa",
        "colab": {
          "base_uri": "https://localhost:8080/",
          "height": 34
        }
      },
      "source": [
        "y=np.log10(train.price)\n",
        "X_train, X_test, y_train, y_test = train_test_split(X, y, test_size=0.2, random_state=101)\n",
        "Reg_tree.fit(X_train,y_train)\n",
        "y_predicts=Reg_tree.predict(X_test)\n",
        "from sklearn.metrics import r2_score\n",
        "print('r2 score:',r2_score(y_test,y_predicts)*100,'%')"
      ],
      "execution_count": 118,
      "outputs": [
        {
          "output_type": "stream",
          "text": [
            "r2 score: 47.1619647368602 %\n"
          ],
          "name": "stdout"
        }
      ]
    },
    {
      "cell_type": "code",
      "metadata": {
        "id": "fLzIFkWbAbmp",
        "colab_type": "code",
        "colab": {}
      },
      "source": [
        "X = train[['neighbourhood_group','neighbourhood','room_type','number_of_reviews','reviews_per_month','availability_365']]\n",
        "y=np.log10(train.price)"
      ],
      "execution_count": 0,
      "outputs": []
    },
    {
      "cell_type": "code",
      "metadata": {
        "id": "ATYFGZqBAi7N",
        "colab_type": "code",
        "outputId": "b5c0501c-e6eb-4232-ad58-c27c26fa8737",
        "colab": {
          "base_uri": "https://localhost:8080/",
          "height": 34
        }
      },
      "source": [
        "X_train, X_test, y_train, y_test = train_test_split(X, y, test_size=0.2, random_state=101)\n",
        "Reg_tree.fit(X_train,y_train)\n",
        "y_predicts=Reg_tree.predict(X_test)\n",
        "from sklearn.metrics import r2_score\n",
        "print('r2 score:',r2_score(y_test,y_predicts)*100,'%')"
      ],
      "execution_count": 121,
      "outputs": [
        {
          "output_type": "stream",
          "text": [
            "r2 score: 47.16196473686017 %\n"
          ],
          "name": "stdout"
        }
      ]
    },
    {
      "cell_type": "code",
      "metadata": {
        "id": "YLgkdFt3AmsE",
        "colab_type": "code",
        "outputId": "d44de1e2-eaaf-4898-c57e-575f8875778c",
        "colab": {
          "base_uri": "https://localhost:8080/",
          "height": 101
        }
      },
      "source": [
        "lm.fit(X_train,y_train)\n",
        "y_predicts = lm.predict(X_test)\n",
        "\n",
        "print(\"\"\"\n",
        "        Mean Squared Error: {}\n",
        "        R2 Score: {}\n",
        "        Mean Absolute Error: {}\n",
        "     \"\"\".format(\n",
        "        np.sqrt(metrics.mean_squared_error(y_test, y_predicts)),\n",
        "        r2_score(y_test,y_predicts) * 100,\n",
        "        mean_absolute_error(y_test,y_predicts)\n",
        "        ))"
      ],
      "execution_count": 122,
      "outputs": [
        {
          "output_type": "stream",
          "text": [
            "\n",
            "        Mean Squared Error: 0.23578065291490327\n",
            "        R2 Score: 41.0461361498634\n",
            "        Mean Absolute Error: 0.17640746161192752\n",
            "     \n"
          ],
          "name": "stdout"
        }
      ]
    },
    {
      "cell_type": "code",
      "metadata": {
        "id": "1IR86lP6A6Un",
        "colab_type": "code",
        "colab": {}
      },
      "source": [
        "#Dropping irrelevant columns\n",
        "# cols =  train[['id','name','host_id','host_name','last_review','reviews_per_month','calculated_host_listings_count','neighbourhood']]\n",
        "# train = train.drop(columns=cols)\n",
        "# train.head()"
      ],
      "execution_count": 0,
      "outputs": []
    },
    {
      "cell_type": "code",
      "metadata": {
        "id": "JEBjiNO0C9ml",
        "colab_type": "code",
        "colab": {}
      },
      "source": [
        "# #Checking for missing values in the reamaining columns\n",
        "# train.isnull().sum()"
      ],
      "execution_count": 0,
      "outputs": []
    },
    {
      "cell_type": "code",
      "metadata": {
        "id": "zreiSWp9Wd5W",
        "colab_type": "code",
        "colab": {}
      },
      "source": [
        "#Saving the data into a new file\n",
        "# train.to_csv('preprocessed_1.csv')"
      ],
      "execution_count": 0,
      "outputs": []
    },
    {
      "cell_type": "code",
      "metadata": {
        "id": "AGr-8KwSFLGa",
        "colab_type": "code",
        "colab": {}
      },
      "source": [
        "#Dividing the dataset into target and predicting variables\n",
        "# y= train[['price']]\n",
        "# X = train.drop(columns='price')\n",
        "# X.head()"
      ],
      "execution_count": 0,
      "outputs": []
    },
    {
      "cell_type": "code",
      "metadata": {
        "id": "cibkWd87FxpG",
        "colab_type": "code",
        "colab": {}
      },
      "source": [
        "# One hot encoding the catagorical variables\n",
        "# X = pd.get_dummies(X)\n",
        "# X.columns = X.columns.str.replace(' ', '_')\n",
        "# X.head()"
      ],
      "execution_count": 0,
      "outputs": []
    },
    {
      "cell_type": "code",
      "metadata": {
        "id": "odlYFiuOGTpa",
        "colab_type": "code",
        "colab": {}
      },
      "source": [
        " # Splitting the dataset into training and testing sets\n",
        "#  from sklearn.model_selection import train_test_split\n",
        "#  X_train, X_test, y_train, y_test = train_test_split(X, y, test_size=0.2, random_state=42)"
      ],
      "execution_count": 0,
      "outputs": []
    },
    {
      "cell_type": "code",
      "metadata": {
        "id": "WYA-vcVmHahW",
        "colab_type": "code",
        "colab": {}
      },
      "source": [
        "# Scaling the training and testing data\n",
        "# scaler = StandardScaler(copy= True, with_mean= True, with_std= True)\n",
        "# X_train_scaled = scaler.fit_transform(X_train)\n",
        "# X_train_scaled = pd.DataFrame(X_train_scaled,columns = X_train.columns)\n",
        "# X_train_scaled.head()"
      ],
      "execution_count": 0,
      "outputs": []
    },
    {
      "cell_type": "code",
      "metadata": {
        "colab_type": "code",
        "id": "k2vJPXsxJRTd",
        "colab": {}
      },
      "source": [
        "\n",
        "# X_test_scaled = scaler.fit_transform(X_test)\n",
        "# X_test_scaled = pd.DataFrame(X_test_scaled,columns = X_test.columns)\n",
        "# X_test_scaled.head()"
      ],
      "execution_count": 0,
      "outputs": []
    },
    {
      "cell_type": "code",
      "metadata": {
        "id": "ZBVtFuL1JQrC",
        "colab_type": "code",
        "colab": {}
      },
      "source": [
        "# Linear model\n",
        "# linear_model = LinearRegression()\n",
        "# linear_model.fit(X_train,y_train)"
      ],
      "execution_count": 0,
      "outputs": []
    },
    {
      "cell_type": "code",
      "metadata": {
        "id": "U0waen6hVOub",
        "colab_type": "code",
        "colab": {}
      },
      "source": [
        "# Checking the accuracy of the linear model by printing the root mean squared errors \n",
        "# train_predict = linear_model.predict(X_train)\n",
        "# print('RMSE train : ',np.sqrt(mean_squared_error(train_predict,y_train)))\n",
        "\n",
        "# test_predict = linear_model.predict(X_test)\n",
        "# print('RMSE test : ', np.sqrt(mean_squared_error(test_predict,y_test)))"
      ],
      "execution_count": 0,
      "outputs": []
    },
    {
      "cell_type": "code",
      "metadata": {
        "id": "Ze3WnmKC94wo",
        "colab_type": "code",
        "colab": {}
      },
      "source": [
        "\n"
      ],
      "execution_count": 0,
      "outputs": []
    },
    {
      "cell_type": "code",
      "metadata": {
        "id": "KvTXjGFA-GpQ",
        "colab_type": "code",
        "colab": {}
      },
      "source": [
        ""
      ],
      "execution_count": 0,
      "outputs": []
    },
    {
      "cell_type": "code",
      "metadata": {
        "id": "8TEc2vKr8sSL",
        "colab_type": "code",
        "colab": {}
      },
      "source": [
        "# train_predict"
      ],
      "execution_count": 0,
      "outputs": []
    },
    {
      "cell_type": "code",
      "metadata": {
        "id": "rKWC9g789E_C",
        "colab_type": "code",
        "colab": {}
      },
      "source": [
        "# test_predict"
      ],
      "execution_count": 0,
      "outputs": []
    },
    {
      "cell_type": "code",
      "metadata": {
        "id": "EEcZyGgqqOSS",
        "colab_type": "code",
        "colab": {}
      },
      "source": [
        "# train1 = pd.get_dummies(train)\n",
        "# train1.columns = train1.columns.str.replace(' ', '_')\n",
        "# train1.head()\n"
      ],
      "execution_count": 0,
      "outputs": []
    },
    {
      "cell_type": "code",
      "metadata": {
        "id": "kSCEBKmpRfdT",
        "colab_type": "code",
        "outputId": "c694cb5e-e771-4219-b654-4c759c5472ba",
        "colab": {
          "base_uri": "https://localhost:8080/",
          "height": 97
        }
      },
      "source": [
        "actual_sample = train.head(1)\n",
        "actual_sample\n"
      ],
      "execution_count": 123,
      "outputs": [
        {
          "output_type": "execute_result",
          "data": {
            "text/html": [
              "<div>\n",
              "<style scoped>\n",
              "    .dataframe tbody tr th:only-of-type {\n",
              "        vertical-align: middle;\n",
              "    }\n",
              "\n",
              "    .dataframe tbody tr th {\n",
              "        vertical-align: top;\n",
              "    }\n",
              "\n",
              "    .dataframe thead th {\n",
              "        text-align: right;\n",
              "    }\n",
              "</style>\n",
              "<table border=\"1\" class=\"dataframe\">\n",
              "  <thead>\n",
              "    <tr style=\"text-align: right;\">\n",
              "      <th></th>\n",
              "      <th>host_id</th>\n",
              "      <th>host_name</th>\n",
              "      <th>neighbourhood_group</th>\n",
              "      <th>neighbourhood</th>\n",
              "      <th>latitude</th>\n",
              "      <th>longitude</th>\n",
              "      <th>room_type</th>\n",
              "      <th>price</th>\n",
              "      <th>minimum_nights</th>\n",
              "      <th>number_of_reviews</th>\n",
              "      <th>last_review</th>\n",
              "      <th>reviews_per_month</th>\n",
              "      <th>calculated_host_listings_count</th>\n",
              "      <th>availability_365</th>\n",
              "    </tr>\n",
              "  </thead>\n",
              "  <tbody>\n",
              "    <tr>\n",
              "      <th>22835</th>\n",
              "      <td>97001292</td>\n",
              "      <td>Maria</td>\n",
              "      <td>3</td>\n",
              "      <td>104</td>\n",
              "      <td>40.69085</td>\n",
              "      <td>-73.79916</td>\n",
              "      <td>0</td>\n",
              "      <td>10</td>\n",
              "      <td>1</td>\n",
              "      <td>43</td>\n",
              "      <td>2019-06-12</td>\n",
              "      <td>1.68</td>\n",
              "      <td>1</td>\n",
              "      <td>252</td>\n",
              "    </tr>\n",
              "  </tbody>\n",
              "</table>\n",
              "</div>"
            ],
            "text/plain": [
              "        host_id host_name  ...  calculated_host_listings_count  availability_365\n",
              "22835  97001292     Maria  ...                               1               252\n",
              "\n",
              "[1 rows x 14 columns]"
            ]
          },
          "metadata": {
            "tags": []
          },
          "execution_count": 123
        }
      ]
    },
    {
      "cell_type": "code",
      "metadata": {
        "id": "QWOFTiHjSr87",
        "colab_type": "code",
        "outputId": "b35f6e9f-3124-4144-e3e5-eaa98a3d595a",
        "colab": {
          "base_uri": "https://localhost:8080/",
          "height": 77
        }
      },
      "source": [
        "adhoc_predict = actual_sample[['neighbourhood_group','neighbourhood','room_type','number_of_reviews','reviews_per_month','availability_365']]\n",
        "adhoc_predict.head()"
      ],
      "execution_count": 125,
      "outputs": [
        {
          "output_type": "execute_result",
          "data": {
            "text/html": [
              "<div>\n",
              "<style scoped>\n",
              "    .dataframe tbody tr th:only-of-type {\n",
              "        vertical-align: middle;\n",
              "    }\n",
              "\n",
              "    .dataframe tbody tr th {\n",
              "        vertical-align: top;\n",
              "    }\n",
              "\n",
              "    .dataframe thead th {\n",
              "        text-align: right;\n",
              "    }\n",
              "</style>\n",
              "<table border=\"1\" class=\"dataframe\">\n",
              "  <thead>\n",
              "    <tr style=\"text-align: right;\">\n",
              "      <th></th>\n",
              "      <th>neighbourhood_group</th>\n",
              "      <th>neighbourhood</th>\n",
              "      <th>room_type</th>\n",
              "      <th>number_of_reviews</th>\n",
              "      <th>reviews_per_month</th>\n",
              "      <th>availability_365</th>\n",
              "    </tr>\n",
              "  </thead>\n",
              "  <tbody>\n",
              "    <tr>\n",
              "      <th>22835</th>\n",
              "      <td>3</td>\n",
              "      <td>104</td>\n",
              "      <td>0</td>\n",
              "      <td>43</td>\n",
              "      <td>1.68</td>\n",
              "      <td>252</td>\n",
              "    </tr>\n",
              "  </tbody>\n",
              "</table>\n",
              "</div>"
            ],
            "text/plain": [
              "       neighbourhood_group  neighbourhood  ...  reviews_per_month  availability_365\n",
              "22835                    3            104  ...               1.68               252\n",
              "\n",
              "[1 rows x 6 columns]"
            ]
          },
          "metadata": {
            "tags": []
          },
          "execution_count": 125
        }
      ]
    },
    {
      "cell_type": "code",
      "metadata": {
        "id": "zH6AgVNSbh0R",
        "colab_type": "code",
        "outputId": "3fec21b1-438d-4d89-82d2-eac7a8733517",
        "colab": {
          "base_uri": "https://localhost:8080/",
          "height": 54
        }
      },
      "source": [
        "json_payload = adhoc_predict.to_json()\n",
        "json_payload"
      ],
      "execution_count": 126,
      "outputs": [
        {
          "output_type": "execute_result",
          "data": {
            "text/plain": [
              "'{\"neighbourhood_group\":{\"22835\":3},\"neighbourhood\":{\"22835\":104},\"room_type\":{\"22835\":0},\"number_of_reviews\":{\"22835\":43},\"reviews_per_month\":{\"22835\":1.68},\"availability_365\":{\"22835\":252}}'"
            ]
          },
          "metadata": {
            "tags": []
          },
          "execution_count": 126
        }
      ]
    },
    {
      "cell_type": "code",
      "metadata": {
        "id": "shUX-KDCbkqp",
        "colab_type": "code",
        "outputId": "b00d2a06-f640-4ed4-91ba-66077cf71038",
        "colab": {
          "base_uri": "https://localhost:8080/",
          "height": 34
        }
      },
      "source": [
        "scaler = StandardScaler().fit(adhoc_predict)\n",
        "scaled_adhoc_predict = scaler.transform(adhoc_predict)\n",
        "scaled_adhoc_predict"
      ],
      "execution_count": 127,
      "outputs": [
        {
          "output_type": "execute_result",
          "data": {
            "text/plain": [
              "array([[0., 0., 0., 0., 0., 0.]])"
            ]
          },
          "metadata": {
            "tags": []
          },
          "execution_count": 127
        }
      ]
    },
    {
      "cell_type": "code",
      "metadata": {
        "id": "mRRYIoSHthf2",
        "colab_type": "code",
        "outputId": "b71b0c9f-ee8c-4131-dc06-101b62fe907e",
        "colab": {
          "base_uri": "https://localhost:8080/",
          "height": 34
        }
      },
      "source": [
        "list(lm.predict(scaled_adhoc_predict))"
      ],
      "execution_count": 128,
      "outputs": [
        {
          "output_type": "execute_result",
          "data": {
            "text/plain": [
              "[2.1619120686603903]"
            ]
          },
          "metadata": {
            "tags": []
          },
          "execution_count": 128
        }
      ]
    },
    {
      "cell_type": "code",
      "metadata": {
        "id": "or7_bAhkbr3G",
        "colab_type": "code",
        "colab": {}
      },
      "source": [
        "from sklearn.externals import joblib"
      ],
      "execution_count": 0,
      "outputs": []
    },
    {
      "cell_type": "code",
      "metadata": {
        "id": "awlCohyEuAc1",
        "colab_type": "code",
        "outputId": "80087abe-a264-4f53-e58b-1e6b931abd16",
        "colab": {
          "base_uri": "https://localhost:8080/",
          "height": 34
        }
      },
      "source": [
        "joblib.dump(lm, 'ny_airbnb_prediction.joblib')"
      ],
      "execution_count": 130,
      "outputs": [
        {
          "output_type": "execute_result",
          "data": {
            "text/plain": [
              "['ny_airbnb_prediction.joblib']"
            ]
          },
          "metadata": {
            "tags": []
          },
          "execution_count": 130
        }
      ]
    },
    {
      "cell_type": "code",
      "metadata": {
        "id": "0KVnJC8XuMkg",
        "colab_type": "code",
        "outputId": "872bf2ab-2fc0-4cea-e588-332ab16088d4",
        "colab": {
          "base_uri": "https://localhost:8080/",
          "height": 151
        }
      },
      "source": [
        "!ls -l"
      ],
      "execution_count": 131,
      "outputs": [
        {
          "output_type": "stream",
          "text": [
            "total 9696\n",
            "-rw-r--r-- 1 root root 7077973 Apr 24 20:44 AB_NYC_2019.csv\n",
            "-rw-r--r-- 1 root root     661 Apr 25 01:27 ny_airbnb_prediction.joblib\n",
            "-rw-r--r-- 1 root root 2562212 Apr 24 21:07 preprocessed_1.csv\n",
            "drwxr-xr-x 1 root root    4096 Apr  3 16:24 sample_data\n",
            "-rw-r--r-- 1 root root  134845 Apr 25 01:25 sample-out.png\n",
            "-rw-r--r-- 1 root root    1710 Apr 25 01:25 tree1.dot\n",
            "-rw-r--r-- 1 root root  135077 Apr 25 01:25 tree1.png\n"
          ],
          "name": "stdout"
        }
      ]
    },
    {
      "cell_type": "code",
      "metadata": {
        "id": "a7vEROJruSoY",
        "colab_type": "code",
        "colab": {}
      },
      "source": [
        "clf = joblib.load('ny_airbnb_prediction.joblib')"
      ],
      "execution_count": 0,
      "outputs": []
    },
    {
      "cell_type": "code",
      "metadata": {
        "id": "SXJlwakQuZhN",
        "colab_type": "code",
        "outputId": "48721931-abc4-4764-c36d-032216179866",
        "colab": {
          "base_uri": "https://localhost:8080/",
          "height": 215
        }
      },
      "source": [
        "actual_sample2 = train.head(5)\n",
        "actual_sample2"
      ],
      "execution_count": 133,
      "outputs": [
        {
          "output_type": "execute_result",
          "data": {
            "text/html": [
              "<div>\n",
              "<style scoped>\n",
              "    .dataframe tbody tr th:only-of-type {\n",
              "        vertical-align: middle;\n",
              "    }\n",
              "\n",
              "    .dataframe tbody tr th {\n",
              "        vertical-align: top;\n",
              "    }\n",
              "\n",
              "    .dataframe thead th {\n",
              "        text-align: right;\n",
              "    }\n",
              "</style>\n",
              "<table border=\"1\" class=\"dataframe\">\n",
              "  <thead>\n",
              "    <tr style=\"text-align: right;\">\n",
              "      <th></th>\n",
              "      <th>host_id</th>\n",
              "      <th>host_name</th>\n",
              "      <th>neighbourhood_group</th>\n",
              "      <th>neighbourhood</th>\n",
              "      <th>latitude</th>\n",
              "      <th>longitude</th>\n",
              "      <th>room_type</th>\n",
              "      <th>price</th>\n",
              "      <th>minimum_nights</th>\n",
              "      <th>number_of_reviews</th>\n",
              "      <th>last_review</th>\n",
              "      <th>reviews_per_month</th>\n",
              "      <th>calculated_host_listings_count</th>\n",
              "      <th>availability_365</th>\n",
              "    </tr>\n",
              "  </thead>\n",
              "  <tbody>\n",
              "    <tr>\n",
              "      <th>22835</th>\n",
              "      <td>97001292</td>\n",
              "      <td>Maria</td>\n",
              "      <td>3</td>\n",
              "      <td>104</td>\n",
              "      <td>40.69085</td>\n",
              "      <td>-73.79916</td>\n",
              "      <td>0</td>\n",
              "      <td>10</td>\n",
              "      <td>1</td>\n",
              "      <td>43</td>\n",
              "      <td>2019-06-12</td>\n",
              "      <td>1.68</td>\n",
              "      <td>1</td>\n",
              "      <td>252</td>\n",
              "    </tr>\n",
              "    <tr>\n",
              "      <th>31407</th>\n",
              "      <td>91034542</td>\n",
              "      <td>Maureen</td>\n",
              "      <td>2</td>\n",
              "      <td>111</td>\n",
              "      <td>40.74408</td>\n",
              "      <td>-73.97803</td>\n",
              "      <td>1</td>\n",
              "      <td>10</td>\n",
              "      <td>5</td>\n",
              "      <td>42</td>\n",
              "      <td>2019-06-30</td>\n",
              "      <td>2.87</td>\n",
              "      <td>1</td>\n",
              "      <td>2</td>\n",
              "    </tr>\n",
              "    <tr>\n",
              "      <th>32810</th>\n",
              "      <td>167570251</td>\n",
              "      <td>Rachel</td>\n",
              "      <td>1</td>\n",
              "      <td>188</td>\n",
              "      <td>40.66242</td>\n",
              "      <td>-73.99464</td>\n",
              "      <td>0</td>\n",
              "      <td>10</td>\n",
              "      <td>1</td>\n",
              "      <td>14</td>\n",
              "      <td>2018-10-28</td>\n",
              "      <td>1.06</td>\n",
              "      <td>1</td>\n",
              "      <td>4</td>\n",
              "    </tr>\n",
              "    <tr>\n",
              "      <th>33225</th>\n",
              "      <td>197169969</td>\n",
              "      <td>Maria</td>\n",
              "      <td>3</td>\n",
              "      <td>104</td>\n",
              "      <td>40.68939</td>\n",
              "      <td>-73.79886</td>\n",
              "      <td>0</td>\n",
              "      <td>10</td>\n",
              "      <td>2</td>\n",
              "      <td>22</td>\n",
              "      <td>2019-07-06</td>\n",
              "      <td>1.76</td>\n",
              "      <td>1</td>\n",
              "      <td>332</td>\n",
              "    </tr>\n",
              "    <tr>\n",
              "      <th>35386</th>\n",
              "      <td>47516406</td>\n",
              "      <td>Arthur</td>\n",
              "      <td>3</td>\n",
              "      <td>215</td>\n",
              "      <td>40.69139</td>\n",
              "      <td>-73.86086</td>\n",
              "      <td>1</td>\n",
              "      <td>10</td>\n",
              "      <td>7</td>\n",
              "      <td>4</td>\n",
              "      <td>2018-10-08</td>\n",
              "      <td>0.41</td>\n",
              "      <td>2</td>\n",
              "      <td>180</td>\n",
              "    </tr>\n",
              "  </tbody>\n",
              "</table>\n",
              "</div>"
            ],
            "text/plain": [
              "         host_id host_name  ...  calculated_host_listings_count  availability_365\n",
              "22835   97001292     Maria  ...                               1               252\n",
              "31407   91034542   Maureen  ...                               1                 2\n",
              "32810  167570251    Rachel  ...                               1                 4\n",
              "33225  197169969     Maria  ...                               1               332\n",
              "35386   47516406    Arthur  ...                               2               180\n",
              "\n",
              "[5 rows x 14 columns]"
            ]
          },
          "metadata": {
            "tags": []
          },
          "execution_count": 133
        }
      ]
    },
    {
      "cell_type": "code",
      "metadata": {
        "id": "V9dVv_V6uhuz",
        "colab_type": "code",
        "outputId": "481229c9-ea6f-4175-9eb9-7007762da156",
        "colab": {
          "base_uri": "https://localhost:8080/",
          "height": 77
        }
      },
      "source": [
        "adhoc_predict2 = actual_sample[['neighbourhood_group','neighbourhood','room_type','number_of_reviews','reviews_per_month','availability_365']]\n",
        "adhoc_predict2.head()"
      ],
      "execution_count": 134,
      "outputs": [
        {
          "output_type": "execute_result",
          "data": {
            "text/html": [
              "<div>\n",
              "<style scoped>\n",
              "    .dataframe tbody tr th:only-of-type {\n",
              "        vertical-align: middle;\n",
              "    }\n",
              "\n",
              "    .dataframe tbody tr th {\n",
              "        vertical-align: top;\n",
              "    }\n",
              "\n",
              "    .dataframe thead th {\n",
              "        text-align: right;\n",
              "    }\n",
              "</style>\n",
              "<table border=\"1\" class=\"dataframe\">\n",
              "  <thead>\n",
              "    <tr style=\"text-align: right;\">\n",
              "      <th></th>\n",
              "      <th>neighbourhood_group</th>\n",
              "      <th>neighbourhood</th>\n",
              "      <th>room_type</th>\n",
              "      <th>number_of_reviews</th>\n",
              "      <th>reviews_per_month</th>\n",
              "      <th>availability_365</th>\n",
              "    </tr>\n",
              "  </thead>\n",
              "  <tbody>\n",
              "    <tr>\n",
              "      <th>22835</th>\n",
              "      <td>3</td>\n",
              "      <td>104</td>\n",
              "      <td>0</td>\n",
              "      <td>43</td>\n",
              "      <td>1.68</td>\n",
              "      <td>252</td>\n",
              "    </tr>\n",
              "  </tbody>\n",
              "</table>\n",
              "</div>"
            ],
            "text/plain": [
              "       neighbourhood_group  neighbourhood  ...  reviews_per_month  availability_365\n",
              "22835                    3            104  ...               1.68               252\n",
              "\n",
              "[1 rows x 6 columns]"
            ]
          },
          "metadata": {
            "tags": []
          },
          "execution_count": 134
        }
      ]
    },
    {
      "cell_type": "code",
      "metadata": {
        "id": "N88_R9vvuuqD",
        "colab_type": "code",
        "outputId": "38ba8724-b013-484f-985b-9a1b6dcf5c9c",
        "colab": {
          "base_uri": "https://localhost:8080/",
          "height": 34
        }
      },
      "source": [
        "scaler = StandardScaler().fit(adhoc_predict2)\n",
        "scaled_adhoc_predict2 = scaler.transform(adhoc_predict2)\n",
        "scaled_adhoc_predict2"
      ],
      "execution_count": 135,
      "outputs": [
        {
          "output_type": "execute_result",
          "data": {
            "text/plain": [
              "array([[0., 0., 0., 0., 0., 0.]])"
            ]
          },
          "metadata": {
            "tags": []
          },
          "execution_count": 135
        }
      ]
    },
    {
      "cell_type": "code",
      "metadata": {
        "id": "IroV9gKpuxtZ",
        "colab_type": "code",
        "outputId": "e0be5712-c892-43f1-c135-001bbfc2e6ab",
        "colab": {
          "base_uri": "https://localhost:8080/",
          "height": 34
        }
      },
      "source": [
        "# Use pickle loaded model\n",
        "list(clf.predict(scaled_adhoc_predict2))"
      ],
      "execution_count": 136,
      "outputs": [
        {
          "output_type": "execute_result",
          "data": {
            "text/plain": [
              "[2.1619120686603903]"
            ]
          },
          "metadata": {
            "tags": []
          },
          "execution_count": 136
        }
      ]
    },
    {
      "cell_type": "code",
      "metadata": {
        "id": "jmZONIdx72_R",
        "colab_type": "code",
        "colab": {
          "base_uri": "https://localhost:8080/",
          "height": 34
        },
        "outputId": "4ecdb594-62b9-408d-ab6c-11b25692686d"
      },
      "source": [
        "#Gradient Boosting\n",
        "from sklearn.model_selection import cross_val_score\n",
        "from sklearn.ensemble import GradientBoostingRegressor\n",
        "clf = GradientBoostingRegressor(n_estimators=100, learning_rate=1.0,\n",
        "max_depth=1, random_state=0)\n",
        "clf.fit(X_train,y_train)\n",
        "scores = cross_val_score(clf, X_test, y_test, cv=5)\n",
        "scores.mean()"
      ],
      "execution_count": 137,
      "outputs": [
        {
          "output_type": "execute_result",
          "data": {
            "text/plain": [
              "0.5272124440419665"
            ]
          },
          "metadata": {
            "tags": []
          },
          "execution_count": 137
        }
      ]
    },
    {
      "cell_type": "code",
      "metadata": {
        "id": "43NaQVGe81rz",
        "colab_type": "code",
        "colab": {
          "base_uri": "https://localhost:8080/",
          "height": 101
        },
        "outputId": "ffe1b7d5-b633-463d-8579-d9c0fff28bf5"
      },
      "source": [
        "y_predict = clf.predict(X_test)\n",
        "\n",
        "print(\"\"\"\n",
        "        Mean Squared Error: {}\n",
        "        R2 Score: {}\n",
        "        Mean Absolute Error: {}\n",
        "     \"\"\".format(\n",
        "        np.sqrt(metrics.mean_squared_error(y_test, y_predict)),\n",
        "        r2_score(y_test,y_predict) * 100,\n",
        "        mean_absolute_error(y_test,y_predict)\n",
        "        ))"
      ],
      "execution_count": 138,
      "outputs": [
        {
          "output_type": "stream",
          "text": [
            "\n",
            "        Mean Squared Error: 0.21075527121725496\n",
            "        R2 Score: 52.89653741811912\n",
            "        Mean Absolute Error: 0.15464038590998772\n",
            "     \n"
          ],
          "name": "stdout"
        }
      ]
    }
  ]
}