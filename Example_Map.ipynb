{
  "nbformat": 4,
  "nbformat_minor": 0,
  "metadata": {
    "colab": {
      "name": "Example_Map.ipynb",
      "provenance": [],
      "toc_visible": true
    },
    "kernelspec": {
      "name": "python3",
      "display_name": "Python 3"
    }
  },
  "cells": [
    {
      "cell_type": "code",
      "metadata": {
        "id": "6N9ykLCyo1x0",
        "colab_type": "code",
        "colab": {}
      },
      "source": [
        "import folium\n",
        "import pandas as pd"
      ],
      "execution_count": 0,
      "outputs": []
    },
    {
      "cell_type": "markdown",
      "metadata": {
        "id": "H8RLVMZ9rgZc",
        "colab_type": "text"
      },
      "source": [
        "#Import dataframe"
      ]
    },
    {
      "cell_type": "code",
      "metadata": {
        "id": "T2ZdsC_PrjXd",
        "colab_type": "code",
        "colab": {}
      },
      "source": [
        "airbnb_data = pd.read_csv('/content/preprocessed_1.csv')"
      ],
      "execution_count": 0,
      "outputs": []
    },
    {
      "cell_type": "markdown",
      "metadata": {
        "id": "3m0zvIVdrz0O",
        "colab_type": "text"
      },
      "source": [
        "#View df"
      ]
    },
    {
      "cell_type": "code",
      "metadata": {
        "id": "39eBMH6urzrz",
        "colab_type": "code",
        "colab": {
          "base_uri": "https://localhost:8080/",
          "height": 326
        },
        "outputId": "bb280723-4b39-475d-c1f3-b9bf031e68b4"
      },
      "source": [
        "airbnb_data.head()"
      ],
      "execution_count": 46,
      "outputs": [
        {
          "output_type": "execute_result",
          "data": {
            "text/html": [
              "<div>\n",
              "<style scoped>\n",
              "    .dataframe tbody tr th:only-of-type {\n",
              "        vertical-align: middle;\n",
              "    }\n",
              "\n",
              "    .dataframe tbody tr th {\n",
              "        vertical-align: top;\n",
              "    }\n",
              "\n",
              "    .dataframe thead th {\n",
              "        text-align: right;\n",
              "    }\n",
              "</style>\n",
              "<table border=\"1\" class=\"dataframe\">\n",
              "  <thead>\n",
              "    <tr style=\"text-align: right;\">\n",
              "      <th></th>\n",
              "      <th>Unnamed: 0</th>\n",
              "      <th>neighbourhood_group</th>\n",
              "      <th>latitude</th>\n",
              "      <th>longitude</th>\n",
              "      <th>room_type</th>\n",
              "      <th>price</th>\n",
              "      <th>minimum_nights</th>\n",
              "      <th>number_of_reviews</th>\n",
              "      <th>availability_365</th>\n",
              "    </tr>\n",
              "  </thead>\n",
              "  <tbody>\n",
              "    <tr>\n",
              "      <th>0</th>\n",
              "      <td>0</td>\n",
              "      <td>Brooklyn</td>\n",
              "      <td>40.64749</td>\n",
              "      <td>-73.97237</td>\n",
              "      <td>Private room</td>\n",
              "      <td>149</td>\n",
              "      <td>1</td>\n",
              "      <td>9</td>\n",
              "      <td>365</td>\n",
              "    </tr>\n",
              "    <tr>\n",
              "      <th>1</th>\n",
              "      <td>1</td>\n",
              "      <td>Manhattan</td>\n",
              "      <td>40.75362</td>\n",
              "      <td>-73.98377</td>\n",
              "      <td>Entire home/apt</td>\n",
              "      <td>225</td>\n",
              "      <td>1</td>\n",
              "      <td>45</td>\n",
              "      <td>355</td>\n",
              "    </tr>\n",
              "    <tr>\n",
              "      <th>2</th>\n",
              "      <td>2</td>\n",
              "      <td>Manhattan</td>\n",
              "      <td>40.80902</td>\n",
              "      <td>-73.94190</td>\n",
              "      <td>Private room</td>\n",
              "      <td>150</td>\n",
              "      <td>3</td>\n",
              "      <td>0</td>\n",
              "      <td>365</td>\n",
              "    </tr>\n",
              "    <tr>\n",
              "      <th>3</th>\n",
              "      <td>3</td>\n",
              "      <td>Brooklyn</td>\n",
              "      <td>40.68514</td>\n",
              "      <td>-73.95976</td>\n",
              "      <td>Entire home/apt</td>\n",
              "      <td>89</td>\n",
              "      <td>1</td>\n",
              "      <td>270</td>\n",
              "      <td>194</td>\n",
              "    </tr>\n",
              "    <tr>\n",
              "      <th>4</th>\n",
              "      <td>4</td>\n",
              "      <td>Manhattan</td>\n",
              "      <td>40.79851</td>\n",
              "      <td>-73.94399</td>\n",
              "      <td>Entire home/apt</td>\n",
              "      <td>80</td>\n",
              "      <td>10</td>\n",
              "      <td>9</td>\n",
              "      <td>0</td>\n",
              "    </tr>\n",
              "  </tbody>\n",
              "</table>\n",
              "</div>"
            ],
            "text/plain": [
              "   Unnamed: 0 neighbourhood_group  ...  number_of_reviews  availability_365\n",
              "0           0            Brooklyn  ...                  9               365\n",
              "1           1           Manhattan  ...                 45               355\n",
              "2           2           Manhattan  ...                  0               365\n",
              "3           3            Brooklyn  ...                270               194\n",
              "4           4           Manhattan  ...                  9                 0\n",
              "\n",
              "[5 rows x 9 columns]"
            ]
          },
          "metadata": {
            "tags": []
          },
          "execution_count": 46
        }
      ]
    },
    {
      "cell_type": "markdown",
      "metadata": {
        "id": "-K4kS8SapNbu",
        "colab_type": "text"
      },
      "source": [
        "#create map object"
      ]
    },
    {
      "cell_type": "code",
      "metadata": {
        "id": "Uet1TAdto-Dh",
        "colab_type": "code",
        "colab": {}
      },
      "source": [
        "#create map object\n",
        "m = folium.Map(location=[40.730610,-73.935242], zoom_start=12)"
      ],
      "execution_count": 0,
      "outputs": []
    },
    {
      "cell_type": "markdown",
      "metadata": {
        "id": "u9hNl1dppQ4h",
        "colab_type": "text"
      },
      "source": [
        "#Display empty folium Map of New York City, New York"
      ]
    },
    {
      "cell_type": "code",
      "metadata": {
        "id": "9CdI7lnspD6H",
        "colab_type": "code",
        "colab": {
          "base_uri": "https://localhost:8080/",
          "height": 394
        },
        "outputId": "77ce75f3-4de2-4772-9b2d-3aedc3843d89"
      },
      "source": [
        ""
      ],
      "execution_count": 3,
      "outputs": [
        {
          "output_type": "execute_result",
          "data": {
            "text/html": [
              "<div style=\"width:100%;\"><div style=\"position:relative;width:100%;height:0;padding-bottom:60%;\"><iframe src=\"about:blank\" style=\"position:absolute;width:100%;height:100%;left:0;top:0;border:none !important;\" data-html=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 onload=\"this.contentDocument.open();this.contentDocument.write(atob(this.getAttribute('data-html')));this.contentDocument.close();\" allowfullscreen webkitallowfullscreen mozallowfullscreen></iframe></div></div>"
            ],
            "text/plain": [
              "<folium.folium.Map at 0x7f13cb75ba90>"
            ]
          },
          "metadata": {
            "tags": []
          },
          "execution_count": 3
        }
      ]
    },
    {
      "cell_type": "markdown",
      "metadata": {
        "id": "ZPCVFGK3qa_k",
        "colab_type": "text"
      },
      "source": [
        "##Create a list for coordinates\n",
        "\n"
      ]
    },
    {
      "cell_type": "code",
      "metadata": {
        "id": "mKadBw5eqgqt",
        "colab_type": "code",
        "colab": {
          "base_uri": "https://localhost:8080/",
          "height": 34
        },
        "outputId": "24a47c26-d930-4e8f-b387-2273198cde16"
      },
      "source": [
        "locations = airbnb_data[['latitude','longitude']]\n",
        "locationlist = locations.values.tolist()\n",
        "len(locationlist)\n",
        "locationlist[1]"
      ],
      "execution_count": 53,
      "outputs": [
        {
          "output_type": "execute_result",
          "data": {
            "text/plain": [
              "[40.75362, -73.98376999999998]"
            ]
          },
          "metadata": {
            "tags": []
          },
          "execution_count": 53
        }
      ]
    },
    {
      "cell_type": "markdown",
      "metadata": {
        "id": "76H9cVn0sYlT",
        "colab_type": "text"
      },
      "source": [
        "##Create map off of data"
      ]
    },
    {
      "cell_type": "code",
      "metadata": {
        "id": "-e3eQyQWsYdP",
        "colab_type": "code",
        "colab": {}
      },
      "source": [
        "for point in range(0, 20):\n",
        "  folium.Marker(locationlist[point],popup=airbnb_data['neighbourhood_group'][point]).add_to(m)"
      ],
      "execution_count": 0,
      "outputs": []
    },
    {
      "cell_type": "markdown",
      "metadata": {
        "id": "0NG6BnxItCMG",
        "colab_type": "text"
      },
      "source": [
        "##Display New Map"
      ]
    },
    {
      "cell_type": "code",
      "metadata": {
        "id": "kXRJmn3ctCu3",
        "colab_type": "code",
        "colab": {
          "base_uri": "https://localhost:8080/",
          "height": 394
        },
        "outputId": "d0f5b516-cb98-4a24-8449-aa14855696d4"
      },
      "source": [
        "m\n"
      ],
      "execution_count": 55,
      "outputs": [
        {
          "output_type": "execute_result",
          "data": {
            "text/html": [
              "<div style=\"width:100%;\"><div style=\"position:relative;width:100%;height:0;padding-bottom:60%;\"><iframe src=\"about:blank\" style=\"position:absolute;width:100%;height:100%;left:0;top:0;border:none !important;\" data-html=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 onload=\"this.contentDocument.open();this.contentDocument.write(atob(this.getAttribute('data-html')));this.contentDocument.close();\" allowfullscreen webkitallowfullscreen mozallowfullscreen></iframe></div></div>"
            ],
            "text/plain": [
              "<folium.folium.Map at 0x7f1345986048>"
            ]
          },
          "metadata": {
            "tags": []
          },
          "execution_count": 55
        }
      ]
    }
  ]
}